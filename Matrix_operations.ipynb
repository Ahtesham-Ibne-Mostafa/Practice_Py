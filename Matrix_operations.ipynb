{
  "nbformat": 4,
  "nbformat_minor": 0,
  "metadata": {
    "colab": {
      "provenance": [],
      "authorship_tag": "ABX9TyNVf1hN7ERX02Za7zZQCHTI",
      "include_colab_link": true
    },
    "kernelspec": {
      "name": "python3",
      "display_name": "Python 3"
    },
    "language_info": {
      "name": "python"
    }
  },
  "cells": [
    {
      "cell_type": "markdown",
      "metadata": {
        "id": "view-in-github",
        "colab_type": "text"
      },
      "source": [
        "<a href=\"https://colab.research.google.com/github/Ahtesham-Ibne-Mostafa/Practice_Py/blob/main/Matrix_operations.ipynb\" target=\"_parent\"><img src=\"https://colab.research.google.com/assets/colab-badge.svg\" alt=\"Open In Colab\"/></a>"
      ]
    },
    {
      "cell_type": "code",
      "execution_count": 9,
      "metadata": {
        "colab": {
          "base_uri": "https://localhost:8080/"
        },
        "id": "xce1PuCi7I-1",
        "outputId": "6414cd23-0a1f-4b1f-b573-a175b8a6b1db"
      },
      "outputs": [
        {
          "output_type": "stream",
          "name": "stdout",
          "text": [
            "Enter the number of total matrixs :2\n",
            "For matrix 1\n",
            "Enter the number of rows for your matrix: 3\n",
            "Enter the number of columns for your matrix: 3\n",
            "For matrix 2\n",
            "Enter the number of rows for your matrix: 2\n",
            "Enter the number of columns for your matrix: 1\n",
            "{'matrix 1': [3, 3], 'matrix 2': [2, 1]}\n"
          ]
        }
      ],
      "source": [
        "total = int (input('Enter the number of total matrixs :'))\n",
        "dict={}\n",
        "for i in range(1,(total+1)):\n",
        "    print('For matrix',i)\n",
        "    rows=int(input('Enter the number of rows for your matrix: '))\n",
        "    columns=int(input('Enter the number of columns for your matrix: '))\n",
        "    valu=[]\n",
        "    for j in range(rows*columns):\n",
        "        f=int[input('Enter the values of the rows:')]\n",
        "        valu.append(f)\n",
        "    if rows*columns!=len(f):\n",
        "        print('Error')\n",
        "    else:\n",
        "        dict[\"matrix {0}\".format(i)]=[rows,columns,f]\n"
      ]
    },
    {
      "cell_type": "code",
      "source": [],
      "metadata": {
        "id": "8VdheKlN89j6"
      },
      "execution_count": null,
      "outputs": []
    }
  ]
}