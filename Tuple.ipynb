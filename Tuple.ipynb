{
 "cells": [
  {
   "cell_type": "code",
   "execution_count": null,
   "metadata": {},
   "outputs": [],
   "source": [
    "a_tuple = (\"The Institute\",\n",
    "(\"Best Mystery & Thriller\", \"The Silent Patient\", 68821),\n",
    "75717,\n",
    "[1, 2, 3, 400, 5, 6, 7],\n",
    "(\"Best Fiction\", \"The Testaments\", 98291)\n",
    ")\n",
    "print(a_tuple[3][3])"
   ]
  },
  {
   "cell_type": "code",
   "execution_count": null,
   "metadata": {},
   "outputs": [],
   "source": [
    "x=input('Enter the tuple :')\n",
    "# removing parantheses and making the string a list\n",
    "y=x[1:-1].split(',')\n",
    "z=[]\n",
    "# making the strings from list integer\n",
    "for i in y :\n",
    "    z.append(int(i))\n",
    "print(tuple(z[2:-2]))"
   ]
  },
  {
   "cell_type": "code",
   "execution_count": null,
   "metadata": {},
   "outputs": [],
   "source": [
    "x=(\n",
    "(\"Best Mystery & Thriller\",\"The Silent Patient\",68,821),\n",
    "(\"Best Horror\",\"The Institute\",75,717),\n",
    "(\"Best History & Biography\",\"The five\",31,783 ),\n",
    "(\"Best Fiction\",\"The Testaments\",98,291)\n",
    ")\n",
    "print('Size of the tuple is :',len(x))\n",
    "for i in x :\n",
    "    print(i)"
   ]
  },
  {
   "cell_type": "code",
   "execution_count": null,
   "metadata": {},
   "outputs": [],
   "source": [
    "x=input('Enter the tuple :')\n",
    "z=input('Enter the number :')\n",
    "# removing parantheses and making the string a list\n",
    "y=x[1:-1].split(', ')\n",
    "print(f'{z} appears {y.count(z)} times in the tuple')"
   ]
  },
  {
   "cell_type": "code",
   "execution_count": null,
   "metadata": {},
   "outputs": [],
   "source": [
    "book_info = (\n",
    "(\"Best Mystery & Thriller\",\"The Silent Patient\",68821),\n",
    "(\"Best Horror\",\"The Institute\",75717),\n",
    "(\"Best History & Biography\",\"The five\",31783 ),\n",
    "(\"Best Fiction\",\"The Testaments\",98291)\n",
    ")\n",
    "for x in book_info:\n",
    "    a,b,c=x\n",
    "    print(f\"{b} won the '{a}' category with {c} votes\")"
   ]
  },
  {
   "cell_type": "code",
   "execution_count": null,
   "metadata": {},
   "outputs": [],
   "source": [
    "tuple_1=('a', 'b', 'c', 'd', 'e', 'f', 'g', 'h')\n",
    "list_1 = []\n",
    "for i in range(-1,-(len(tuple_1)+1),-1):\n",
    "    list_1.append(tuple_1[i])\n",
    "print (tuple(list_1))"
   ]
  }
 ],
 "metadata": {
  "language_info": {
   "name": "python"
  },
  "orig_nbformat": 4
 },
 "nbformat": 4,
 "nbformat_minor": 2
}
