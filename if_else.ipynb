{
 "cells": [
  {
   "cell_type": "code",
   "execution_count": null,
   "metadata": {},
   "outputs": [],
   "source": [
    "### Take input of 2 numbers from the user\n",
    "var_1 = input('Please Enter Your First Number: ')\n",
    "var_2 = input('Please Enter Your Second Number: ')\n",
    "\n",
    "#Since input() function converts everything to String,\n",
    "#for performing any kind of mathematical operation you need to convert them to int.\n",
    "#For this conversion, we need to use int() function\n",
    "\n",
    "\n",
    "# First, let's clarify whether the inputs are actually Strings or not. \n",
    "print(type(var_1))\n",
    "print(type(var_2))\n",
    "\n",
    "\n",
    "# Convert Strings to integer using the int() function\n",
    "var_3 = int(var_1)\n",
    "var_4 = int(var_2)\n",
    "\n",
    "#===============================================================\n",
    "#input taking and conversion can be done in a single sentence\n",
    "#var_1 = int(input('Please Enter Your First Number'))\n",
    "#var_2 = int(input('Please Enter Your Second Number'))\n",
    "\n",
    "#===============================================================\n",
    "\n",
    "# Perform Addition\n",
    "total = var_3 + var_4\n",
    "\n",
    "# Perform Multiplication \n",
    "product = var_3 * var_4\n",
    "\n",
    "# Perform Substraction \n",
    "difference = var_3 - var_4\n",
    "\n",
    "# Print all the calculated results\n",
    "print(\"Sum =\", total)\n",
    "print(\"Product =\", product)\n",
    "print(\"Difference =\", difference)"
   ]
  },
  {
   "cell_type": "code",
   "execution_count": null,
   "metadata": {},
   "outputs": [],
   "source": [
    "import math \n",
    "\n",
    "#taking input from the user, then converting it to float.\n",
    "#Since radius can be a floating point value\n",
    "\n",
    "radius  = float(input(\"please enter the radius value:\")) \n",
    "\n",
    "\n",
    "# squares can be made using this 3 ways, as written in hints. \n",
    "# all 3 ways, generates the same result of area\n",
    "\n",
    "area = math.pi * radius **2 \n",
    "print(\"Area result is:\", area)\n",
    "\n",
    "area = math.pi * math.pow(radius, 2)\n",
    "print(\"Area result is:\", area)\n",
    "\n",
    "area = math.pi * radius * radius\n",
    "print(\"Area result is:\", area)\n",
    "\n",
    "#==============================================================\n",
    "# TODO\n",
    "# calculate circumference\n",
    "\n",
    "#=============================================================="
   ]
  },
  {
   "cell_type": "code",
   "execution_count": null,
   "metadata": {},
   "outputs": [],
   "source": [
    "x=int(input('enter a number :'))\n",
    "y=int(input('enter another number :'))\n",
    "if x>y:\n",
    "    print(x)\n",
    "    print(y)\n",
    "else:\n",
    "    print(y)\n",
    "    print(x)"
   ]
  },
  {
   "cell_type": "code",
   "execution_count": null,
   "metadata": {},
   "outputs": [],
   "source": [
    "x=int(input('enter a number :'))\n",
    "if x>=20 :\n",
    "    print('Too high')\n",
    "else:\n",
    "    print('Thank you')"
   ]
  },
  {
   "cell_type": "code",
   "execution_count": null,
   "metadata": {},
   "outputs": [],
   "source": [
    "x=int(input('enter your age :'))\n",
    "if x>=18:\n",
    "    print('your can vote')\n",
    "elif x==17:\n",
    "    print('you can learn to drive')\n",
    "elif x==16:\n",
    "    print('you can buy a lottery ticket')\n",
    "else:\n",
    "    print('you can go to trick-or-treating')"
   ]
  },
  {
   "cell_type": "code",
   "execution_count": null,
   "metadata": {},
   "outputs": [],
   "source": [
    "x=int(input('enter 1 or 2 or 3 :'))\n",
    "if x==1:\n",
    "    print('thank you')\n",
    "elif x==2\n",
    "    print('well done')\n",
    "elif x==3:\n",
    "    print('correct')\n",
    "else:\n",
    "    print('error massage')"
   ]
  }
 ],
 "metadata": {
  "language_info": {
   "name": "python"
  },
  "orig_nbformat": 4
 },
 "nbformat": 4,
 "nbformat_minor": 2
}
