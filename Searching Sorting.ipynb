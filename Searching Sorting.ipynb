{
 "cells": [
  {
   "cell_type": "code",
   "execution_count": 1,
   "metadata": {},
   "outputs": [
    {
     "name": "stdout",
     "output_type": "stream",
     "text": [
      "[1, 2, 2, 3, 5, 6, 10, 11, 12, 14, 15, 17, 18, 20, 29]\n"
     ]
    }
   ],
   "source": [
    "my_list = [10,1,20,3,6,2,5,11,15,2,12,14,17,18,29]\n",
    "for i in range(0, len(my_list)-1): \n",
    "    for j in range(0, len(my_list)- i - 1):\n",
    "        if (my_list[j] > my_list[j + 1]):\n",
    "            y = my_list[j]\n",
    "            my_list[j] = my_list[j + 1]\n",
    "            my_list[j + 1] = y\n",
    "\n",
    "print(my_list)"
   ]
  },
  {
   "cell_type": "code",
   "execution_count": 2,
   "metadata": {},
   "outputs": [
    {
     "name": "stdout",
     "output_type": "stream",
     "text": [
      "[1, 2, 2, 3, 5, 6, 10, 11, 12, 14, 15, 17, 18, 20, 29]\n"
     ]
    }
   ],
   "source": [
    "my_list = [10,1,20,3,6,2,5,11,15,2,12,14,17,18,29]\n",
    "for i in range(0, len(my_list)-1):\n",
    "    x = my_list[i]\n",
    "    y = i \n",
    "    for j in range(i+1, len(my_list)):\n",
    "         if my_list[j] < x:\n",
    "               x = my_list[j]\n",
    "               y = j\n",
    "    temp =  x\n",
    "    my_list[y] =  my_list[i]\n",
    "    my_list[i] = temp\n",
    "print(my_list)"
   ]
  },
  {
   "cell_type": "code",
   "execution_count": 3,
   "metadata": {},
   "outputs": [
    {
     "name": "stdout",
     "output_type": "stream",
     "text": [
      "[29, 20, 18, 17, 15, 14, 12, 11, 10, 6, 5, 3, 2, 2, 1]\n"
     ]
    }
   ],
   "source": [
    "my_list = [10,1,20,3,6,2,5,11,15,2,12,14,17,18,29]\n",
    "for i in range(0, len(my_list)-1): \n",
    "    for j in range(0, len(my_list)- i - 1):\n",
    "        if (my_list[j] < my_list[j + 1]):\n",
    "            y = my_list[j]\n",
    "            my_list[j] = my_list[j + 1]\n",
    "            my_list[j + 1] = y\n",
    "\n",
    "print(my_list)"
   ]
  },
  {
   "cell_type": "code",
   "execution_count": null,
   "metadata": {},
   "outputs": [],
   "source": [
    "x= [10,30,20,70,11,15,22,16,58,100,12,56,70,80]\n",
    "for i in range(0,len(x)-2,2):\n",
    "    min_v=x[i]\n",
    "    min_i=i\n",
    "    for j in range(i+2,len(x),2):\n",
    "        if min_v>x[j]:\n",
    "            min_v=x[j]\n",
    "            min_i=j\n",
    "    a =  min_v\n",
    "    x[min_i] =  x[i]\n",
    "    x[i] = a\n",
    "for k in range(1,len(x)-2,2):\n",
    "    min_v=x[k]\n",
    "    min_i=k\n",
    "    for l in range(k+2,len(x),2):\n",
    "        if min_v<x[l]:\n",
    "            min_v=x[l]\n",
    "            min_i=l\n",
    "    a =  min_v\n",
    "    x[min_i] =  x[k]\n",
    "    x[k] = a\n",
    "print(x)"
   ]
  },
  {
   "cell_type": "code",
   "execution_count": null,
   "metadata": {},
   "outputs": [],
   "source": [
    "def fst(i):\n",
    "    x= [ [\"Alan\", 95, 87, 91], [\"Turing\", 92, 90, 83], [\"Elon\", 87, 92, 80], [\"Musk\", 85, 94, 90] ]\n",
    "    z=[]\n",
    "    a=[]\n",
    "    for j in x:\n",
    "        z.append(j[i])\n",
    "        a.append(j[i])\n",
    "    for p in range(0, len(z)-1): \n",
    "        for q in range(0, len(z)- p - 1):\n",
    "            if (z[q] < z[q + 1]):\n",
    "                f = z[q]\n",
    "                z[q] = z[q + 1]\n",
    "                z[q + 1] = f\n",
    "    for r in z:\n",
    "        print(x[a.index(r)][0])\n",
    "x=input(\"Enter the course name :\")\n",
    "if x=='CSE110':\n",
    "    fst(1)\n",
    "elif x== 'PHY111':\n",
    "    fst(2)\n",
    "elif x=='MAT110':\n",
    "    fst(3) "
   ]
  },
  {
   "cell_type": "code",
   "execution_count": null,
   "metadata": {},
   "outputs": [],
   "source": [
    "my_list = [4,2,3,1,6,5]\n",
    "a= 0\n",
    "for i in range(len(my_list) - 1):\n",
    "    min_idx = i\n",
    "    for j in range(i, len(my_list)):\n",
    "        if my_list[j] < my_list[min_idx]:\n",
    "            min_idx = j\n",
    "    if my_list[i] != my_list[min_idx]:\n",
    "        my_list[i], my_list[min_idx] = my_list[min_idx], my_list[i]\n",
    "        a += 1\n",
    "\n",
    "print(a*2)"
   ]
  },
  {
   "cell_type": "code",
   "execution_count": null,
   "metadata": {},
   "outputs": [],
   "source": [
    "x=input(\"Enter the of list1: \")[1:-1].split(', ')\n",
    "y=input(\"Enter the of list: \")[1:-1].split(', ')\n",
    "list1=[]\n",
    "for a in x:\n",
    "    list1.append(int(a))\n",
    "for b in y:\n",
    "    list1.append(int(b))\n",
    "for i in range(len(list1)):\n",
    "  min_index=i\n",
    "  for j in range(i+1,len(list1)):\n",
    "    if(list1[j]<list1[min_index]):\n",
    "      temp=list1[j]\n",
    "      list1[j]=list1[min_index]\n",
    "      list1[min_index]=temp\n",
    "print('Sorted list =',list1)\n",
    "k=len(list1)\n",
    "if k%2!=0:\n",
    "    c=list1[k//2]\n",
    "else:\n",
    "    c=(list1[k//2]+list1[k//2-1])/2\n",
    "print('Median =',c)"
   ]
  },
  {
   "cell_type": "code",
   "execution_count": null,
   "metadata": {},
   "outputs": [],
   "source": [
    "v = input('Enter the list :')[1:-1].split(',')\n",
    "list_one=[]\n",
    "for c in v:\n",
    "    list_one.append(int(c))\n",
    "x=abs(list_one[0]+list_one[1])\n",
    "a = 0\n",
    "b = 1\n",
    "for i in range(len(list_one)):\n",
    "    for j in range(i+1, len(list_one)):\n",
    "        if i != j:\n",
    "            k =abs(list_one[i]+list_one[j])\n",
    "            if k<x:\n",
    "                x = k\n",
    "                a = i\n",
    "                b = j\n",
    "                \n",
    "print(f\"Two pairs which have the smallest sum = {list_one[a]} and {list_one[b]}\")"
   ]
  }
 ],
 "metadata": {
  "kernelspec": {
   "display_name": "Python 3.10.8 64-bit (microsoft store)",
   "language": "python",
   "name": "python3"
  },
  "language_info": {
   "codemirror_mode": {
    "name": "ipython",
    "version": 3
   },
   "file_extension": ".py",
   "mimetype": "text/x-python",
   "name": "python",
   "nbconvert_exporter": "python",
   "pygments_lexer": "ipython3",
   "version": "3.10.8"
  },
  "orig_nbformat": 4,
  "vscode": {
   "interpreter": {
    "hash": "efb25ee08ad69dead2ab5496ee0c8d86b1adbbae397278509c1aab5e90353b65"
   }
  }
 },
 "nbformat": 4,
 "nbformat_minor": 2
}
