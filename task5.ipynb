{
 "cells": [
  {
   "cell_type": "code",
   "execution_count": 1,
   "id": "9347a86f",
   "metadata": {},
   "outputs": [
    {
     "name": "stdout",
     "output_type": "stream",
     "text": [
      "Please enter your first number :4\n",
      "Please enter your second number :5\n",
      "Sum = 9\n",
      "Product = 20\n",
      "Differance = -1\n"
     ]
    }
   ],
   "source": [
    "num1 = int ( input ('Please enter your first number :') )\n",
    "num2 = int ( input ('Please enter your second number :') )\n",
    "print ( 'Sum =' , num1 + num2 )\n",
    "print ( 'Product =' , num1 * num2 )\n",
    "print ( 'Differance =' , num1 - num2 )"
   ]
  },
  {
   "cell_type": "code",
   "execution_count": 67,
   "id": "2cff1d33",
   "metadata": {},
   "outputs": [
    {
     "name": "stdout",
     "output_type": "stream",
     "text": [
      "None\n"
     ]
    }
   ],
   "source": [
    "x=input('Enter the string :')\n",
    "y=x[1]\n",
    "z=0\n",
    "a=0\n",
    "b=''\n",
    "for i in x :\n",
    "    if i==y:\n",
    "        z+=1\n",
    "        if z>a:\n",
    "            a=z\n",
    "            b=y\n",
    "    else:\n",
    "        y=i\n",
    "        z=1\n",
    "if a==0:\n",
    "    print('None')\n",
    "else:\n",
    "    print(b*a)"
   ]
  }
 ],
 "metadata": {
  "kernelspec": {
   "display_name": "Python 3",
   "language": "python",
   "name": "python3"
  },
  "language_info": {
   "codemirror_mode": {
    "name": "ipython",
    "version": 3
   },
   "file_extension": ".py",
   "mimetype": "text/x-python",
   "name": "python",
   "nbconvert_exporter": "python",
   "pygments_lexer": "ipython3",
   "version": "3.10.0"
  }
 },
 "nbformat": 4,
 "nbformat_minor": 5
}
