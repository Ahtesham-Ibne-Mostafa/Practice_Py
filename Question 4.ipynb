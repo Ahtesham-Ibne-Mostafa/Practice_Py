{
 "cells": [
  {
   "cell_type": "code",
   "execution_count": null,
   "metadata": {},
   "outputs": [],
   "source": [
    "a=['a','e','i','o','u']\n",
    "c=''\n",
    "n=0\n",
    "while c=='':\n",
    "    vowel=0\n",
    "    words=0\n",
    "    b=input('Enter the string :')\n",
    "    if b=='Done':\n",
    "        if n==0:\n",
    "            print(\"no string was entered\")\n",
    "        break\n",
    "    else:\n",
    "        n+=1\n",
    "        for i in b.lower():\n",
    "            if i in a:\n",
    "                vowel+=1\n",
    "            elif i==' ':\n",
    "                words+=1\n",
    "        print(f'String {n}: {b}\\nNumber of words: {words+1}\\nNumber of vowels: {vowel}\\nTotal length: {len(b)}')"
   ]
  },
  {
   "cell_type": "code",
   "execution_count": null,
   "metadata": {},
   "outputs": [],
   "source": [
    "a=input('Enter the string :').split(' ')\n",
    "b={}\n",
    "c=[]\n",
    "for i in a:\n",
    "    x=i[0].lower()\n",
    "    for j in a:\n",
    "        y=j[0].lower()\n",
    "        if x==y:\n",
    "            c.append(j)\n",
    "    b[x]=tuple(c)\n",
    "    c=[]\n",
    "print(b)"
   ]
  },
  {
   "cell_type": "code",
   "execution_count": null,
   "metadata": {},
   "outputs": [],
   "source": [
    "def  weird_sort(my_list1):\n",
    "    my_list1=my_list1[1:-1].split(', ')\n",
    "    my_list=[]\n",
    "    for i in my_list1:\n",
    "        my_list.append(int(i))\n",
    "    x=[]\n",
    "    z=my_list.copy()\n",
    "    n=0\n",
    "    my_list.sort(reverse=True)\n",
    "    for k in range(len(my_list)):\n",
    "        if k==0:\n",
    "            x.append(my_list[k])\n",
    "            z.remove(my_list[k])\n",
    "        elif k==1:\n",
    "            x.append(my_list[-1])\n",
    "            z.remove(my_list[-1])\n",
    "        elif k==2:\n",
    "            x.append(my_list[1])\n",
    "            z.remove(my_list[1])\n",
    "        elif k==3:\n",
    "            x.append(my_list[-2])\n",
    "            z.remove(my_list[-2])\n",
    "        else:\n",
    "            x.append(z[n])\n",
    "            n+=1\n",
    "    print(x)\n",
    "weird_sort(input('Enter the list:'))"
   ]
  },
  {
   "cell_type": "code",
   "execution_count": null,
   "metadata": {},
   "outputs": [],
   "source": [
    "dict1 = {\"name\": [\"Alice\", \"Bob\"], \"initial\": \"F44\", \"city\": \"Dhaka\"}\n",
    "list1= [(\"name\", \"Alice\"), (\"initial\", \"F44\"), (\"city\", \"Naogaon\")]\n",
    "dict2={}\n",
    "for j in list1:\n",
    "    for i in j:\n",
    "        if i==j[0]:\n",
    "            pass      \n",
    "        else:\n",
    "            if j[0]=='name':\n",
    "                for k in dict1[j[0]]:\n",
    "                    if k==i:\n",
    "                        pass\n",
    "                    else:\n",
    "                        dict2[j[0]]=k\n",
    "            elif i in dict1[j[0]]:\n",
    "                pass\n",
    "            else:\n",
    "                dict2[j[0]]=dict1[j[0]]\n",
    "print(dict2)"
   ]
  },
  {
   "cell_type": "code",
   "execution_count": null,
   "metadata": {},
   "outputs": [],
   "source": [
    "x=input('Enter the input').split('#')\n",
    "y={}\n",
    "for i in x:\n",
    "    z=int(i)\n",
    "    if x.index(i)%2==0:\n",
    "        for j in range(x.index(i)):\n",
    "            z*=int(x[j])\n",
    "        y[x.index(i)]=z\n",
    "    else:\n",
    "        for k in range(x.index(i)):\n",
    "            z+=int(x[k])\n",
    "        y[x.index(i)]=z\n",
    "print(y)"
   ]
  },
  {
   "cell_type": "code",
   "execution_count": null,
   "metadata": {},
   "outputs": [],
   "source": [
    "def calc_mark(x):\n",
    "    x=x.split(',')\n",
    "    y=[]\n",
    "    z=0\n",
    "    for i in x:\n",
    "        for j in i:\n",
    "            if j==' ':\n",
    "                i.replace(' ','')\n",
    "        y.append(int(i))\n",
    "    y.sort(reverse=True)\n",
    "    if len(y)>3:\n",
    "        for k in range(len(y)-2):\n",
    "            z+=y[k]\n",
    "        print(z/(len(y)-2))\n",
    "    else:\n",
    "        for k in range(len(y)-1):\n",
    "            z+=y[k]\n",
    "        print(z/(len(y)-1))\n",
    "calc_mark(\"7 ,       9 ,   6 ,   8 ,   7\")"
   ]
  }
 ],
 "metadata": {
  "language_info": {
   "name": "python"
  },
  "orig_nbformat": 4
 },
 "nbformat": 4,
 "nbformat_minor": 2
}
