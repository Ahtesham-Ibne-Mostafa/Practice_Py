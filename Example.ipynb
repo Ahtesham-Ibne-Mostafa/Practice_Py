{
  "cells": [
    {
      "cell_type": "markdown",
      "metadata": {
        "colab_type": "text",
        "id": "view-in-github"
      },
      "source": [
        "<a href=\"https://colab.research.google.com/github/Ahtesham-Ibne-Mostafa/Practice_Book/blob/main/Example.ipynb\" target=\"_parent\"><img src=\"https://colab.research.google.com/assets/colab-badge.svg\" alt=\"Open In Colab\"/></a>"
      ]
    },
    {
      "cell_type": "code",
      "execution_count": 1,
      "metadata": {
        "id": "ybh0EBtv-7fV"
      },
      "outputs": [
        {
          "ename": "ValueError",
          "evalue": "invalid literal for int() with base 10: ''",
          "output_type": "error",
          "traceback": [
            "\u001b[1;31m---------------------------------------------------------------------------\u001b[0m",
            "\u001b[1;31mValueError\u001b[0m                                Traceback (most recent call last)",
            "\u001b[1;32mf:\\Github\\Practice_Py\\Example.ipynb Cell 2\u001b[0m in \u001b[0;36m<cell line: 4>\u001b[1;34m()\u001b[0m\n\u001b[0;32m      <a href='vscode-notebook-cell:/f%3A/Github/Practice_Py/Example.ipynb#W1sZmlsZQ%3D%3D?line=1'>2</a>\u001b[0m y\u001b[39m=\u001b[39m []\n\u001b[0;32m      <a href='vscode-notebook-cell:/f%3A/Github/Practice_Py/Example.ipynb#W1sZmlsZQ%3D%3D?line=3'>4</a>\u001b[0m \u001b[39mwhile\u001b[39;00m x:\n\u001b[1;32m----> <a href='vscode-notebook-cell:/f%3A/Github/Practice_Py/Example.ipynb#W1sZmlsZQ%3D%3D?line=4'>5</a>\u001b[0m     z\u001b[39m=\u001b[39m \u001b[39mint\u001b[39;49m(x[\u001b[39m0\u001b[39;49m]) \n\u001b[0;32m      <a href='vscode-notebook-cell:/f%3A/Github/Practice_Py/Example.ipynb#W1sZmlsZQ%3D%3D?line=5'>6</a>\u001b[0m     \u001b[39mfor\u001b[39;00m i \u001b[39min\u001b[39;00m x:\n\u001b[0;32m      <a href='vscode-notebook-cell:/f%3A/Github/Practice_Py/Example.ipynb#W1sZmlsZQ%3D%3D?line=6'>7</a>\u001b[0m         \u001b[39mif\u001b[39;00m \u001b[39mint\u001b[39m(i) \u001b[39m<\u001b[39m z:\n",
            "\u001b[1;31mValueError\u001b[0m: invalid literal for int() with base 10: ''"
          ]
        }
      ],
      "source": [
        "x= input('Enter the list :')[1:-1].split(',')\n",
        "y= []\n",
        "\n",
        "while x:\n",
        "    z= int(x[0]) \n",
        "    for i in x:\n",
        "        if int(i) < z:\n",
        "            z=int(i)\n",
        "    y.append(z)\n",
        "    x.remove(str(z))\n",
        "print(y)"
      ]
    },
    {
      "cell_type": "code",
      "execution_count": 3,
      "metadata": {},
      "outputs": [
        {
          "name": "stdout",
          "output_type": "stream",
          "text": [
            "9\n"
          ]
        }
      ],
      "source": [
        "# string\n",
        "a=3\n",
        "b=2\n",
        "c=a**2\n",
        "print(int(c))"
      ]
    },
    {
      "cell_type": "code",
      "execution_count": 4,
      "metadata": {},
      "outputs": [
        {
          "name": "stdout",
          "output_type": "stream",
          "text": [
            "100\n"
          ]
        }
      ],
      "source": [
        "class megha:\n",
        "    def __init__(self, a ):\n",
        "        self.a=a\n",
        "\n",
        "    def __str__( self):\n",
        "        return '100'\n",
        "print(megha(1))"
      ]
    },
    {
      "cell_type": "code",
      "execution_count": 2,
      "metadata": {},
      "outputs": [
        {
          "name": "stdout",
          "output_type": "stream",
          "text": [
            "2 4\n"
          ]
        }
      ],
      "source": [
        "class a:\n",
        "    def __init__(self):\n",
        "        self.x=1\n",
        "        self.y=2\n",
        "        self.g=self.x,self.y \n",
        "        return self.g\n",
        "class b(a):\n",
        "    def __init__(self):\n",
        "        a.__init__(self)\n",
        "        self.p=1\n",
        "        self.q=2\n",
        "    def adding(self):\n",
        "        self.c=self.g[0]+self.p\n",
        "        self.d=self.g[1]+self.q\n",
        "        print(self.c,self.d)\n",
        "he=b()\n",
        "he.adding()\n"
      ]
    }
  ],
  "metadata": {
    "colab": {
      "authorship_tag": "ABX9TyNqNXEqKe53teOgDVHPm+J0",
      "collapsed_sections": [],
      "include_colab_link": true,
      "name": "Example",
      "provenance": []
    },
    "kernelspec": {
      "display_name": "Python 3.10.8 64-bit (microsoft store)",
      "language": "python",
      "name": "python3"
    },
    "language_info": {
      "codemirror_mode": {
        "name": "ipython",
        "version": 3
      },
      "file_extension": ".py",
      "mimetype": "text/x-python",
      "name": "python",
      "nbconvert_exporter": "python",
      "pygments_lexer": "ipython3",
      "version": "3.10.8"
    },
    "vscode": {
      "interpreter": {
        "hash": "efb25ee08ad69dead2ab5496ee0c8d86b1adbbae397278509c1aab5e90353b65"
      }
    }
  },
  "nbformat": 4,
  "nbformat_minor": 0
}
