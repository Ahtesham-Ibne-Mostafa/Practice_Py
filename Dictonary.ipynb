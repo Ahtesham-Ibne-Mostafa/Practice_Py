{
 "cells": [
  {
   "cell_type": "code",
   "execution_count": 12,
   "metadata": {},
   "outputs": [
    {
     "name": "stdout",
     "output_type": "stream",
     "text": [
      "{'p': 2, 'y': 1, 't': 1, 'h': 1, 'o': 2, 'n': 3, 'r': 2, 'g': 2, 'a': 1, 'm': 2, 'i': 2, 's': 1, 'f': 1, 'u': 1}\n"
     ]
    }
   ],
   "source": [
    "string1=\"Python programming is fun\".lower()\n",
    "list1=[]\n",
    "for i in string1:\n",
    "  list1.append(i) \n",
    "b=None\n",
    "x=0\n",
    "dic1={}\n",
    "for item in list:\n",
    "  if item==' ':\n",
    "      continue\n",
    "  elif(item!=b):\n",
    "    b=item \n",
    "    for a in list1:\n",
    "      if(b==a):\n",
    "        x+=1 \n",
    "    dic1.update({b:x}) \n",
    "    x=0\n",
    "print(dic1)"
   ]
  },
  {
   "cell_type": "code",
   "execution_count": null,
   "metadata": {},
   "outputs": [],
   "source": [
    "dic_1={'Harry':15, 'Draco':8, 'Nevil':19}\n",
    "dic_2={'Ginie':18, 'Luna': 14}\n",
    "dic_1.update(dic_2)\n",
    "marks={}\n",
    "for x in dic_1.keys():\n",
    "    marks[x]=dic_1[x]\n",
    "print(marks)"
   ]
  },
  {
   "cell_type": "code",
   "execution_count": null,
   "metadata": {},
   "outputs": [],
   "source": [
    "x=input('Enter the dictionary :')\n",
    "x=x[1:-1].replace(' ','').split(',')\n",
    "dic={}\n",
    "sum=0\n",
    "div=0\n",
    "for i in x:\n",
    "    div+=1\n",
    "    i=i.split(':')\n",
    "    dic[i[0].strip(\"'\")]=int(i[1])\n",
    "for j in dic.values():\n",
    "    sum+=j\n",
    "print(f'Average is {sum/div}.')"
   ]
  },
  {
   "cell_type": "code",
   "execution_count": null,
   "metadata": {},
   "outputs": [],
   "source": [
    "exam_marks = {'Cierra Vega': 175, 'Alden Cantrell': 200, 'Kierra Gentry': 165, 'Pierre Cox': 190}\n",
    "x=int(input('Enter the number :'))\n",
    "dic_1={}\n",
    "for y in exam_marks.keys():\n",
    "    if exam_marks[y]>=x :\n",
    "        dic_1[y]=exam_marks[y]\n",
    "print(dic_1)"
   ]
  },
  {
   "cell_type": "code",
   "execution_count": null,
   "metadata": {},
   "outputs": [],
   "source": [
    "x={'sci fi': 5, 'mystery': 3, 'horror': 14, 'young_adult': 2, 'adventure':9}\n",
    "y=0\n",
    "z=''\n",
    "for i in x.keys():\n",
    "    if x[i]>y:\n",
    "        y=x[i]\n",
    "        z=i\n",
    "print(f\"The highest selling book is '{z}' and the number of books sold are {y}.\")"
   ]
  },
  {
   "cell_type": "code",
   "execution_count": null,
   "metadata": {},
   "outputs": [],
   "source": [
    "x=input(\"Enter the string :\").lower()\n",
    "dic={}\n",
    "for i in x:\n",
    "    if i==' ':\n",
    "        continue\n",
    "    elif i not in dic.keys():\n",
    "        dic[i]=1\n",
    "    else :\n",
    "        dic[i]+=1\n",
    "print(dic)"
   ]
  },
  {
   "cell_type": "code",
   "execution_count": null,
   "metadata": {},
   "outputs": [],
   "source": [
    "dic= {'A': [1, 2, 3], 'b': ['1', '2'], \"c\": [4, 5, 6, 7]}\n",
    "x=0\n",
    "y=0\n",
    "for i in dic.values():\n",
    "    for j in i:\n",
    "        x+=1\n",
    "    y+=x\n",
    "    x=0\n",
    "print(y)"
   ]
  },
  {
   "cell_type": "code",
   "execution_count": null,
   "metadata": {},
   "outputs": [],
   "source": [
    "list1 = [(\"a\", 1), (\"b\", 2), (\"a\", 3), (\"b\", 1), (\"a\", 2), (\"c\", 1)]\n",
    "dic={}\n",
    "for x in list1:\n",
    "    if x[0] not in dic.keys():\n",
    "        dic[x[0]]=[x[1]]\n",
    "    else:\n",
    "        dic[x[0]].append(x[1])\n",
    "print(dic)"
   ]
  },
  {
   "cell_type": "code",
   "execution_count": null,
   "metadata": {},
   "outputs": [],
   "source": [
    "x=[(2, 3), (4, 5), (6, 7), (2, 8)]\n",
    "y=[]\n",
    "for i in x :\n",
    "    y.append(i[0]*i[1])\n",
    "print(y)\n"
   ]
  },
  {
   "cell_type": "code",
   "execution_count": null,
   "metadata": {},
   "outputs": [],
   "source": [
    "my_dictionary = {'c1':'Red', 'c2':'Green', 'c3':None, 'd4':'Blue', 'a5':None}\n",
    "y={}\n",
    "for x in my_dictionary.keys() :\n",
    "    if my_dictionary[x]==None:\n",
    "        continue\n",
    "    else:\n",
    "        y[x]=my_dictionary[x]\n",
    "print(y)"
   ]
  },
  {
   "cell_type": "code",
   "execution_count": null,
   "metadata": {},
   "outputs": [],
   "source": [
    "x = {'a' : 6, 'b' : 7, 'c' : 9, 'd' : 8, 'e' : 11, 'f' : 12, 'g' : 13}\n",
    "y=int(input('Enter the lower limit :'))\n",
    "z=int(input('Enter the higher limit :'))\n",
    "a={}\n",
    "for i in x.keys():\n",
    "    if y<=x[i]<z:\n",
    "        a[i]=x[i]\n",
    "print(a)"
   ]
  },
  {
   "cell_type": "code",
   "execution_count": null,
   "metadata": {},
   "outputs": [],
   "source": [
    "x=[(20, 80), (31, 80), (1, 22), (88, 11), (27, 11)]\n",
    "y={}\n",
    "for i in x:\n",
    "    if i[1] not in y.keys():\n",
    "        y[i[1]]=[i]\n",
    "    else :\n",
    "        y[i[1]].append(i)\n",
    "print(y)"
   ]
  },
  {
   "cell_type": "code",
   "execution_count": null,
   "metadata": {},
   "outputs": [],
   "source": [
    "x=input('Enter the string :').replace('.','').replace(\"'\",\"\").split(' ')\n",
    "y=input('Enter the list :').replace(\"'\",\"\")\n",
    "y=y[1:-1].split(', ')\n",
    "z={}\n",
    "for i in x:\n",
    "    a=0\n",
    "    for j in i:\n",
    "        a+=ord(j)\n",
    "    if y[a%len(y)] not in z.keys():\n",
    "        z[y[a%len(y)]]=[i]\n",
    "    else :\n",
    "        if i not in z[y[a%len(y)]]:\n",
    "            z[y[a%len(y)]].append(i)\n",
    "print('Words in the given string :',x,'\\nAnswer :',z)"
   ]
  },
  {
   "cell_type": "code",
   "execution_count": null,
   "metadata": {},
   "outputs": [],
   "source": [
    "x=input('Enter the dictionary :').split(', ')\n",
    "y=input('Enter the dictionary :').split(', ')\n",
    "a={}\n",
    "b={}\n",
    "c=[]\n",
    "for i in x:\n",
    "    i=i.split(': ')\n",
    "    a[i[0]]=int(i[1])\n",
    "for i in y:\n",
    "    i=i.split(': ')\n",
    "    b[i[0]]=int(i[1])\n",
    "for i in a.keys():\n",
    "    if i in b.keys():\n",
    "        b[i]=a[i]+b[i]\n",
    "    else:\n",
    "        b[i]=a[i]\n",
    "for i in sorted(b):\n",
    "    a[i]=b[i]\n",
    "    if b[i] not in c:\n",
    "        c.append(b[i])\n",
    "print(a)\n",
    "print('Values:',tuple(sorted(c)))"
   ]
  },
  {
   "cell_type": "code",
   "execution_count": null,
   "metadata": {},
   "outputs": [],
   "source": [
    "x={}\n",
    "y=0\n",
    "while y!=None:\n",
    "    y=input('Enter the number :')\n",
    "    if y== 'STOP':\n",
    "        break\n",
    "    elif y not in x.keys():\n",
    "        x[y]=1\n",
    "    else:\n",
    "        x[y]=x[y]+1\n",
    "for i in x.keys():\n",
    "    print(i,'-',x[i],'times')"
   ]
  },
  {
   "cell_type": "code",
   "execution_count": null,
   "metadata": {},
   "outputs": [],
   "source": [
    "x=input('Enter the dictionary :').split(' , ')\n",
    "a={}\n",
    "for i in x:\n",
    "    b=[]\n",
    "    i=i.split(' : ')\n",
    "    if i[1] not in a.keys():\n",
    "        a[i[1]]=[i[0]]\n",
    "    else:\n",
    "        b.append(i[0])\n",
    "        a[i[1]]=a[i[1]]+b\n",
    "print(a)"
   ]
  },
  {
   "cell_type": "code",
   "execution_count": null,
   "metadata": {},
   "outputs": [],
   "source": [
    "x=input('Enter the string :')\n",
    "y=input('Enter the string :')\n",
    "z=1\n",
    "p=len(y)\n",
    "a={}\n",
    "b={}\n",
    "count=0\n",
    "if len(x)!=len(y):\n",
    "    print('Those strings are not anagrams.')\n",
    "else:\n",
    "    for i in x:\n",
    "        a[i]=z\n",
    "        z+=1\n",
    "    for i in y:\n",
    "        b[i]=p\n",
    "        p-=1\n",
    "    for i in a.keys():\n",
    "        if i not in b.keys():\n",
    "            print('Those strings are not anagrams.')\n",
    "        elif a[i]==b[i]:\n",
    "            count+=1\n",
    "    if count==len(x) and count!=0:\n",
    "        print('Those strings are anagrams.')"
   ]
  },
  {
   "cell_type": "code",
   "execution_count": null,
   "metadata": {},
   "outputs": [],
   "source": [
    "x={'.,?!:':1,'ABC':2,'DEF':3,'GHI':4,'JKL':5,'MNO':6,'PQRS':7,'TUV':8,'WXYZ':9,' ':0}\n",
    "y=input('Enter the message: ').upper()\n",
    "for i in y:\n",
    "    for j in x.keys():\n",
    "        if i in j:\n",
    "            print((j.index(i)+1)*str(x[j]),end='')"
   ]
  }
 ],
 "metadata": {
  "interpreter": {
   "hash": "de19f4270d5eeaa07b0899d4dfe63451810c6343116c3e1a49acf971fc0f14df"
  },
  "kernelspec": {
   "display_name": "Python 3.10.0 64-bit (windows store)",
   "language": "python",
   "name": "python3"
  },
  "language_info": {
   "codemirror_mode": {
    "name": "ipython",
    "version": 3
   },
   "file_extension": ".py",
   "mimetype": "text/x-python",
   "name": "python",
   "nbconvert_exporter": "python",
   "pygments_lexer": "ipython3",
   "version": "3.10.2"
  },
  "orig_nbformat": 4
 },
 "nbformat": 4,
 "nbformat_minor": 2
}
