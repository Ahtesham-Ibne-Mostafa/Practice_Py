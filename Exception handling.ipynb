{
 "cells": [
  {
   "cell_type": "code",
   "execution_count": null,
   "metadata": {},
   "outputs": [],
   "source": [
    "try:\n",
    "    day = int(input('Enter the number of days :'))\n",
    "    month = int(input('Enter the number of months :'))\n",
    "    distance = 0\n",
    "    if day > 31:\n",
    "        raise TypeError()\n",
    "    elif month > 12:\n",
    "        raise KeyError()\n",
    "    else:\n",
    "        if day < 10:\n",
    "            distance = 5+(day*2)/month\n",
    "        else:\n",
    "            distance = 3+(day/month)\n",
    "        print(distance,\"kilometers\")\n",
    "except ValueError:\n",
    "    print(\"Please do not enter any string as input\")\n",
    "except ZeroDivisionError:\n",
    "    print(\"0 is not a valid month\")\n",
    "except TypeError:\n",
    "    print(day,\"is not a valid day of any month\")\n",
    "except KeyError:\n",
    "    print(month,\"is not a valid month\")"
   ]
  },
  {
   "cell_type": "code",
   "execution_count": null,
   "metadata": {},
   "outputs": [],
   "source": [
    "try:\n",
    "    a=input('Enter the list :')[1:-1].split(',')\n",
    "    list1=[]\n",
    "    for j in a:\n",
    "        list1.append(int(j)*1050)\n",
    "    print(list1)\n",
    "except ValueError:\n",
    "  print(\"The list has some non number values\")"
   ]
  },
  {
   "cell_type": "code",
   "execution_count": null,
   "metadata": {},
   "outputs": [],
   "source": [
    "a = input('Enter the string :').lower()\n",
    "vowel = [\"a\",\"e\",\"i\",\"o\",\"u\"]\n",
    "x = 0\n",
    "y = 0\n",
    "for i in a:\n",
    "    if i in vowel:\n",
    "        x += 1\n",
    "    elif i.isdigit() or i == \" \":\n",
    "        pass\n",
    "    else:\n",
    "        y += 1\n",
    "try:\n",
    "  if x >= y:\n",
    "    raise RuntimeError()\n",
    "  else:\n",
    "    print(\"The sentence will work.\")\n",
    "except RuntimeError:\n",
    "  print(\"Number of vowels greater/equal to consonants. Please paraphrase.\")"
   ]
  },
  {
   "cell_type": "code",
   "execution_count": null,
   "metadata": {},
   "outputs": [],
   "source": [
    "try:\n",
    "    a=input('Enter the 1st list :')[1:-1].split(',')\n",
    "    b=input('Enter the 2nd list :')[1:-1].split(',')\n",
    "    list1=[]\n",
    "    for j in a:\n",
    "        list1.append(int(j))\n",
    "    list2=[]\n",
    "    for k in b:\n",
    "        list2.append(int(k))\n",
    "    x = 0\n",
    "    for i in range(len(list1)):\n",
    "        x += list1[i]*list2[i]\n",
    "    print(x)\n",
    "except ValueError:\n",
    "  print(\"The list has some non number values\")\n",
    "except IndexError:\n",
    "  print(\"Index out of bound\")"
   ]
  },
  {
   "cell_type": "code",
   "execution_count": null,
   "metadata": {},
   "outputs": [],
   "source": [
    "my_dictionary={\"Potato\":12, \"Onion\":16, \"Ginger\":15, \"Garlic\":12, \"Tomato\":15}\n",
    "try:\n",
    "    items = input('Enter the name of the groceris :').split(',')\n",
    "    x = 0\n",
    "    for i in items:\n",
    "        x += my_dictionary[i]\n",
    "    print(x)\n",
    "except KeyError:\n",
    "    print(\"Some groceries are not available in the dictionary.\")\n",
    "except NameError:\n",
    "    print(\"the variable to store the total price has not been initialized at 0\")"
   ]
  },
  {
   "cell_type": "code",
   "execution_count": null,
   "metadata": {},
   "outputs": [],
   "source": [
    "my_list = [10, 20, 30, 40, 60, 100, 2, 5]\n",
    "try:\n",
    "    a = int(input('Enter the position :'))\n",
    "except Exception:\n",
    "    print ( \"For position, please enter an Integer value\")\n",
    "else:\n",
    "    try:\n",
    "        print(my_list[a])\n",
    "    except Exception:\n",
    "        print (\"Index out of range\")\n",
    "finally:\n",
    "    print(\"Program ended\")"
   ]
  },
  {
   "cell_type": "code",
   "execution_count": null,
   "metadata": {},
   "outputs": [],
   "source": []
  }
 ],
 "metadata": {
  "language_info": {
   "name": "python"
  },
  "orig_nbformat": 4
 },
 "nbformat": 4,
 "nbformat_minor": 2
}
