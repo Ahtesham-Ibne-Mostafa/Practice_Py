{
 "cells": [
  {
   "cell_type": "code",
   "execution_count": 8,
   "metadata": {},
   "outputs": [
    {
     "name": "stdout",
     "output_type": "stream",
     "text": [
      "\n",
      "== Iteration 1 ==\n",
      "1\n",
      "\n",
      "\n",
      "== Iteration 2 ==\n",
      "*\n",
      "**\n",
      "\n",
      "== Iteration 3 ==\n",
      "123\n",
      "\n",
      "123\n",
      "\n",
      "123\n",
      "\n",
      "\n",
      "== Iteration 4 ==\n",
      "*\n",
      "**\n",
      "***\n",
      "****\n",
      "\n",
      "== Iteration 5 ==\n",
      "12345\n",
      "\n",
      "12345\n",
      "\n",
      "12345\n",
      "\n",
      "12345\n",
      "\n",
      "12345\n",
      "\n"
     ]
    }
   ],
   "source": [
    "x=5\n",
    "for i in range(1,x+1):\n",
    "    if i%2==0:\n",
    "        print('\\n== Iteration',i,'==')\n",
    "        for j in range(1,i+1):\n",
    "            print('*'*j)\n",
    "    else :\n",
    "        print('\\n== Iteration',i,'==')\n",
    "        for k in range (1,i+1):\n",
    "            for k in range (1,i+1):\n",
    "                print(k,end='')\n",
    "            print('\\n')"
   ]
  },
  {
   "cell_type": "code",
   "execution_count": null,
   "metadata": {},
   "outputs": [],
   "source": [
    "# Binary to Decimal\n",
    "\n",
    "x=input('ente the binary :')\n",
    "y='10'\n",
    "z=0\n",
    "a=len(x)-1\n",
    "for i in x:\n",
    "    if i in y :\n",
    "        z+=(int(i)*(2**a))\n",
    "        if a==0:\n",
    "            print(z)\n",
    "        a-=1\n",
    "    else:\n",
    "        print('try again')\n",
    "        break"
   ]
  },
  {
   "cell_type": "code",
   "execution_count": 2,
   "metadata": {},
   "outputs": [
    {
     "name": "stdout",
     "output_type": "stream",
     "text": [
      "0b11010011\n"
     ]
    }
   ],
   "source": [
    "# Decimal to Binary\n",
    "\n",
    "y=input('Enter the decimal :')\n",
    "x=int(y.strip('-'))\n",
    "z=''\n",
    "while x//2!=0 :\n",
    "\tif x%2==0 :\n",
    "\t\tz+='0'\n",
    "\t\tx=x//2\n",
    "\telse :\n",
    "\t\tz+='1'\n",
    "\t\tx=x//2\n",
    "if x//2==0:\n",
    "\tz+='1'\n",
    "bin1=int(z[::-1])\n",
    "if \"-\"==y[0] :\n",
    "    bin1=\"0\"*(8-len(z))+str(bin1)\n",
    "    z=''\n",
    "    for i in bin1 :\n",
    "        if i=='0':\n",
    "            z+='1'\n",
    "        else:\n",
    "            z+='0'\n",
    "    bin1=bin(int(z,2) + int('1',2))\n",
    "print(bin1)"
   ]
  },
  {
   "cell_type": "code",
   "execution_count": null,
   "metadata": {},
   "outputs": [],
   "source": [
    "for a in range(1,1001):\n",
    "    for b in range(1,1001):\n",
    "        for c in range(1,1001):\n",
    "            if a*a+b*b==c*c and a+b+c==1000:\n",
    "                print(a*b*c)"
   ]
  },
  {
   "cell_type": "code",
   "execution_count": null,
   "metadata": {},
   "outputs": [],
   "source": [
    "b=0\n",
    "a= '7316717653133062491922511967442657474235534919493496983520312774506326239578318016984801869478851843858615607891129494954595017379583319528532088055111254069874715852386305071569329096329522744304355766896648950445244523161731856403098711121722383113622298934233803081353362766142828064444866452387493035890729629049156044077239071381051585930796086670172427121883998797908792274921901699720888093776657273330010533678812202354218097512545405947522435258490771167055601360483958644670632441572215539753697817977846174064955149290862569321978468622482839722413756570560574902614079729686524145351004748216637048440319989000889524345065854122758866688116427171479924442928230863465674813919123162824586178664583591245665294765456828489128831426076900422421902267105562632111110937054421750694165896040807198403850962455444362981230987879927244284909188845801561660979191338754992005240636899125607176060588611646710940507754100225698315520005593572972571636269561882670428252483600823257530420752963450'\n",
    "for i in range(len(a)-12):\n",
    "    c=int(a[i])*int(a[i+1])*int(a[i+2])*int(a[i+3])*int(a[i+4])*int(a[i+5])*int(a[i+6])*int(a[i+7])*int(a[i+8])*int(a[i+9])*int(a[i+10])*int(a[i+11])*int(a[i+12])\n",
    "    if b<c:\n",
    "        b=c\n",
    "print(b)"
   ]
  },
  {
   "cell_type": "code",
   "execution_count": null,
   "metadata": {},
   "outputs": [],
   "source": [
    "for i in range(2,600851475142):\n",
    "    if 600851475143%i==0:\n",
    "        for j in range(2,i):\n",
    "            if i%j==0:\n",
    "                break\n",
    "            elif j==i-1:\n",
    "                a=i      \n",
    "print(a)"
   ]
  },
  {
   "cell_type": "code",
   "execution_count": 5,
   "metadata": {},
   "outputs": [
    {
     "name": "stdout",
     "output_type": "stream",
     "text": [
      "233168\n"
     ]
    }
   ],
   "source": [
    "a=0\n",
    "for i in range(1,1000):\n",
    "    if i%3==0 or i%5==0:\n",
    "        a+=i\n",
    "print(a)"
   ]
  }
 ],
 "metadata": {
  "interpreter": {
   "hash": "de19f4270d5eeaa07b0899d4dfe63451810c6343116c3e1a49acf971fc0f14df"
  },
  "kernelspec": {
   "display_name": "Python 3.10.0 64-bit (windows store)",
   "language": "python",
   "name": "python3"
  },
  "language_info": {
   "codemirror_mode": {
    "name": "ipython",
    "version": 3
   },
   "file_extension": ".py",
   "mimetype": "text/x-python",
   "name": "python",
   "nbconvert_exporter": "python",
   "pygments_lexer": "ipython3",
   "version": "3.10.0"
  },
  "orig_nbformat": 4
 },
 "nbformat": 4,
 "nbformat_minor": 2
}
