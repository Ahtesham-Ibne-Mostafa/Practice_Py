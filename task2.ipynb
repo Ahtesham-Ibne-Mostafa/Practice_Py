{
 "cells": [
  {
   "cell_type": "code",
   "execution_count": 27,
   "id": "fe9f32dc",
   "metadata": {},
   "outputs": [
    {
     "name": "stdout",
     "output_type": "stream",
     "text": [
      "Enter the number :10\n",
      "20,729,18,512,16,343,14,216,12,125,10,64,8,27,6,8,4,1,2,0."
     ]
    }
   ],
   "source": [
    "x=int (input('Enter the number :'))\n",
    "z=x-1\n",
    "p=x*2\n",
    "for y in range (x*2,0,-1):\n",
    "    if p ==0:\n",
    "        print (p,end='.')\n",
    "    elif y%2==0 :\n",
    "        print(p,end=',')\n",
    "        p-=2\n",
    "    else:\n",
    "        a=z**3\n",
    "        print(a,end=',')\n",
    "        z-=1"
   ]
  },
  {
   "cell_type": "code",
   "execution_count": null,
   "id": "dad0f7a4",
   "metadata": {},
   "outputs": [],
   "source": [
    "y = int(input(\"enter a number: \"))\n",
    "\n",
    "i = 1\n",
    "m = 2*y\n",
    "j = y-1\n",
    "\n",
    "while i <= 2*y:\n",
    "    if i % 2 != 0:\n",
    "\n",
    "        print(m, end=\",\")\n",
    "        m = m -2\n",
    "        i += 1\n",
    "    else:\n",
    "        print(j**3, end=\",\")\n",
    "        j -= 1\n",
    "        i += 1"
   ]
  }
 ],
 "metadata": {
  "kernelspec": {
   "display_name": "Python 3",
   "language": "python",
   "name": "python3"
  },
  "language_info": {
   "codemirror_mode": {
    "name": "ipython",
    "version": 3
   },
   "file_extension": ".py",
   "mimetype": "text/x-python",
   "name": "python",
   "nbconvert_exporter": "python",
   "pygments_lexer": "ipython3",
   "version": "3.8.8"
  }
 },
 "nbformat": 4,
 "nbformat_minor": 5
}
