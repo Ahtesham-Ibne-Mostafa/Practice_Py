{
 "cells": [
  {
   "cell_type": "code",
   "execution_count": 24,
   "id": "79e3bc9a",
   "metadata": {},
   "outputs": [
    {
     "name": "stdout",
     "output_type": "stream",
     "text": [
      "<class 'str'>\n"
     ]
    }
   ],
   "source": [
    "print(type((('a'))))"
   ]
  },
  {
   "cell_type": "code",
   "execution_count": 25,
   "id": "133d8787",
   "metadata": {},
   "outputs": [
    {
     "name": "stdout",
     "output_type": "stream",
     "text": [
      "<class 'list'>\n"
     ]
    }
   ],
   "source": [
    "temp = [90,90.0]\n",
    "print (type(temp))"
   ]
  },
  {
   "cell_type": "code",
   "execution_count": 55,
   "id": "d5872e7b",
   "metadata": {},
   "outputs": [
    {
     "name": "stdout",
     "output_type": "stream",
     "text": [
      "8.0\n"
     ]
    }
   ],
   "source": [
    "x=2.0\n",
    "x**=3\n",
    "print(x)"
   ]
  },
  {
   "cell_type": "code",
   "execution_count": 46,
   "id": "259be674",
   "metadata": {},
   "outputs": [
    {
     "name": "stdout",
     "output_type": "stream",
     "text": [
      "True\n"
     ]
    }
   ],
   "source": [
    "x=[\"a\", 1]\n",
    "print(1 in x)"
   ]
  },
  {
   "cell_type": "code",
   "execution_count": 54,
   "id": "1be9821a",
   "metadata": {},
   "outputs": [
    {
     "name": "stdout",
     "output_type": "stream",
     "text": [
      "0.6499999999999999\n"
     ]
    }
   ],
   "source": [
    "print(2.65%2)"
   ]
  },
  {
   "cell_type": "code",
   "execution_count": 56,
   "id": "007a07f6",
   "metadata": {},
   "outputs": [
    {
     "name": "stdout",
     "output_type": "stream",
     "text": [
      "3.0 5.0\n"
     ]
    }
   ],
   "source": [
    "a=10\n",
    "a//=3.0\n",
    "b=2\n",
    "b+=a\n",
    "print (a,b)"
   ]
  },
  {
   "cell_type": "code",
   "execution_count": 58,
   "id": "9f9f7ec9",
   "metadata": {},
   "outputs": [
    {
     "name": "stdout",
     "output_type": "stream",
     "text": [
      "False\n"
     ]
    }
   ],
   "source": [
    "print (\"h\" in \"Helo\")"
   ]
  },
  {
   "cell_type": "code",
   "execution_count": 59,
   "id": "392ab574",
   "metadata": {},
   "outputs": [
    {
     "name": "stdout",
     "output_type": "stream",
     "text": [
      "False\n"
     ]
    }
   ],
   "source": [
    "print (type([]) is tuple)"
   ]
  },
  {
   "cell_type": "code",
   "execution_count": 65,
   "id": "168929cc",
   "metadata": {},
   "outputs": [
    {
     "name": "stdout",
     "output_type": "stream",
     "text": [
      "fuck : 5\n",
      "i wanna fuck 105\n"
     ]
    }
   ],
   "source": [
    "s=int(input(\"fuck : \"))\n",
    "s=s+100\n",
    "print (\"i wanna fuck\",s)"
   ]
  },
  {
   "cell_type": "code",
   "execution_count": 67,
   "id": "c3aa9ac2",
   "metadata": {},
   "outputs": [
    {
     "name": "stdout",
     "output_type": "stream",
     "text": [
      "21\n"
     ]
    }
   ],
   "source": [
    "x =str(21)\n",
    "print(x)"
   ]
  },
  {
   "cell_type": "code",
   "execution_count": 70,
   "id": "0372c194",
   "metadata": {},
   "outputs": [
    {
     "name": "stdout",
     "output_type": "stream",
     "text": [
      "20\n"
     ]
    }
   ],
   "source": [
    "'''hello'''\n",
    "print (20)"
   ]
  },
  {
   "cell_type": "code",
   "execution_count": 72,
   "id": "ce60015a",
   "metadata": {},
   "outputs": [
    {
     "name": "stdout",
     "output_type": "stream",
     "text": [
      "<class 'str'>\n"
     ]
    }
   ],
   "source": [
    "print(type(str(int(float(\"5.99\")))))"
   ]
  },
  {
   "cell_type": "code",
   "execution_count": null,
   "id": "a56c6025",
   "metadata": {},
   "outputs": [],
   "source": []
  }
 ],
 "metadata": {
  "kernelspec": {
   "display_name": "Python 3",
   "language": "python",
   "name": "python3"
  },
  "language_info": {
   "codemirror_mode": {
    "name": "ipython",
    "version": 3
   },
   "file_extension": ".py",
   "mimetype": "text/x-python",
   "name": "python",
   "nbconvert_exporter": "python",
   "pygments_lexer": "ipython3",
   "version": "3.10.0"
  }
 },
 "nbformat": 4,
 "nbformat_minor": 5
}
