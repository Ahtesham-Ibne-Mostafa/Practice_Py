{
 "cells": [
  {
   "cell_type": "code",
   "execution_count": 21,
   "metadata": {},
   "outputs": [
    {
     "name": "stdout",
     "output_type": "stream",
     "text": [
      "24\n",
      "[7, 8, 9]\n"
     ]
    }
   ],
   "source": [
    "x=[]\n",
    "y=input('Enter the number :')\n",
    "while y!='STOP':\n",
    "    x.append(y)\n",
    "    y=input('Enter the number :')\n",
    "z=[]\n",
    "for i in x:\n",
    "    n=0\n",
    "    if i not in z:\n",
    "        z.append(i)\n",
    "        for j in x:\n",
    "            if i==j:\n",
    "                n+=1\n",
    "        print(i,'-',n,'times')"
   ]
  },
  {
   "cell_type": "code",
   "execution_count": null,
   "metadata": {},
   "outputs": [],
   "source": [
    "a = int(input('Enter the number of lists :'))\n",
    "big=0\n",
    "lst1=[]\n",
    "for i in range(a):\n",
    "    lst=[]\n",
    "    summ=0\n",
    "    x=input('Enter the list :').split(' ')\n",
    "    for j in x:\n",
    "        summ+=int(j)\n",
    "        lst.append(int(j))\n",
    "    if summ>big:\n",
    "        big=summ\n",
    "        lst1=lst\n",
    "print(big)\n",
    "print(lst1)"
   ]
  },
  {
   "cell_type": "code",
   "execution_count": null,
   "metadata": {},
   "outputs": [],
   "source": [
    "x= input('Enter the 1st list :').split(' ')\n",
    "y= input('Enter the 2nd list :').split(' ')\n",
    "z=[]\n",
    "for i in x:\n",
    "    for j in y:\n",
    "        z.append(int(i)*int(j))\n",
    "print(z)"
   ]
  },
  {
   "cell_type": "code",
   "execution_count": null,
   "metadata": {},
   "outputs": [],
   "source": [
    "y=''\n",
    "while y!=['STOP']:\n",
    "    x=False\n",
    "    y=input('Enter the lsit :').split(' ')\n",
    "    for i in range(1,len(y)):\n",
    "        z=0\n",
    "        a=abs(int(y[i])-int(y[i-1]))\n",
    "        if a>z:\n",
    "            z=a\n",
    "        if z>len(y)-1:\n",
    "            print('Not UB Jumper')\n",
    "            x=True\n",
    "            break\n",
    "    if x==False and '0'<y[0][0]<'9':\n",
    "        print('UB Jumper')"
   ]
  },
  {
   "cell_type": "code",
   "execution_count": null,
   "metadata": {},
   "outputs": [],
   "source": [
    "a='Bracu1234'\n",
    "x=[]\n",
    "y=[]\n",
    "z=[]\n",
    "p=[]\n",
    "b=''\n",
    "for i in a:\n",
    "    if '0'<i<'9':\n",
    "        if int(i)%2==0:\n",
    "            x.append(int(i))\n",
    "        else:\n",
    "            p.append(int(i))\n",
    "    elif 64<ord(i)<91:\n",
    "        y.append(ord(i))\n",
    "    else:\n",
    "        z.append(ord(i))\n",
    "for j in sorted(z):\n",
    "    b+=chr(j)\n",
    "for k in sorted(y):\n",
    "    b+=chr(k)\n",
    "for i in sorted(p):\n",
    "    b+=str(i)\n",
    "for i in sorted(x):\n",
    "    b+=str(i)\n",
    "print(b)"
   ]
  }
 ],
 "metadata": {
  "interpreter": {
   "hash": "de19f4270d5eeaa07b0899d4dfe63451810c6343116c3e1a49acf971fc0f14df"
  },
  "kernelspec": {
   "display_name": "Python 3.10.0 64-bit (windows store)",
   "language": "python",
   "name": "python3"
  },
  "language_info": {
   "codemirror_mode": {
    "name": "ipython",
    "version": 3
   },
   "file_extension": ".py",
   "mimetype": "text/x-python",
   "name": "python",
   "nbconvert_exporter": "python",
   "pygments_lexer": "ipython3",
   "version": "3.10.2"
  },
  "orig_nbformat": 4
 },
 "nbformat": 4,
 "nbformat_minor": 2
}
