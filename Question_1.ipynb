{
 "cells": [
  {
   "cell_type": "code",
   "execution_count": 22,
   "metadata": {},
   "outputs": [
    {
     "name": "stdout",
     "output_type": "stream",
     "text": [
      "['p', 'e', 'n', 'n', 'y', '0', '6', 'n', 'e', 'b', 'r', 'a', 's', 'k', 'a']\n",
      "Correct, you may enter\n"
     ]
    }
   ],
   "source": [
    "#password problem\n",
    "\n",
    "password=input('enter the password :')\n",
    "a=[]\n",
    "for x in password :\n",
    "    a.append(x)\n",
    "print(a)\n",
    "i=0\n",
    "k=0\n",
    "for y in a :\n",
    "    if 48<=ord(y)<=57 :\n",
    "        i+=ord(y)\n",
    "    else :\n",
    "        k+=1\n",
    "        if k==(len(a)-1) :\n",
    "            print('Leave')\n",
    "if i!=0 and i%2==0 :\n",
    "    print('Correct, you may enter')\n",
    "elif i%2!=0 :\n",
    "    print('Incorrect, you may leave')"
   ]
  },
  {
   "cell_type": "code",
   "execution_count": 5,
   "metadata": {},
   "outputs": [
    {
     "name": "stdout",
     "output_type": "stream",
     "text": [
      "False\n"
     ]
    }
   ],
   "source": [
    "List_one = [1, 4, 3, 2, 6]\n",
    "List_two = [5, 6, 9, 8, 7]\n",
    "for i in List_one :\n",
    "    if i in List_two:\n",
    "        print(\"True\")\n",
    "        break\n",
    "    else:\n",
    "        if List_one.index(i)==len(List_one)-1:\n",
    "            print(\"False\")"
   ]
  },
  {
   "cell_type": "code",
   "execution_count": 1,
   "metadata": {},
   "outputs": [
    {
     "name": "stdout",
     "output_type": "stream",
     "text": [
      "sad\n"
     ]
    }
   ],
   "source": [
    "string = input('enter the string :')\n",
    "j=len(string)//4\n",
    "i=0\n",
    "k=0\n",
    "if len(string)<4:\n",
    "    print('invalid input')\n",
    "else:\n",
    "    for x in string :\n",
    "        i+=1\n",
    "        if i%4==0 :\n",
    "            if 48<=ord(x)<=57:\n",
    "                k+=1\n",
    "    if k==j :\n",
    "        print('yay')\n",
    "    else :\n",
    "        print('sad')"
   ]
  },
  {
   "cell_type": "code",
   "execution_count": 8,
   "metadata": {},
   "outputs": [
    {
     "name": "stdout",
     "output_type": "stream",
     "text": [
      "30\n",
      "9\n",
      "139\n"
     ]
    }
   ],
   "source": [
    "#candy problem \n",
    "\n",
    "m=int(input('enter the numbers candies :'))\n",
    "n=int(input('enter the number of candy packets to get candy : '))\n",
    "p=int(input('enter the number of candy you can get by candy packets'))\n",
    "packet= m\n",
    "x=m\n",
    "while packet >=n :\n",
    "    candy=(packet//n)*p\n",
    "    packet= candy+(packet%n)\n",
    "    x+=candy\n",
    "print(x)"
   ]
  },
  {
   "cell_type": "code",
   "execution_count": 40,
   "metadata": {},
   "outputs": [
    {
     "name": "stdout",
     "output_type": "stream",
     "text": [
      "10,15,25,45,85\n"
     ]
    }
   ],
   "source": [
    "x=int(input('enter a number from 10 to 20 :'))\n",
    "if 10<= x <=20 :\n",
    "    y=0\n",
    "    while y <100 :\n",
    "        y=(2*x)-5\n",
    "        if y>100 :\n",
    "            print(x)\n",
    "        else :\n",
    "            print(x,end=',')\n",
    "            x=(2*x)-5\n",
    "else :\n",
    "    print('invalid input')"
   ]
  },
  {
   "cell_type": "code",
   "execution_count": 11,
   "metadata": {},
   "outputs": [
    {
     "name": "stdout",
     "output_type": "stream",
     "text": [
      "c o m 112 117 t e r "
     ]
    }
   ],
   "source": [
    "string=input('enter the string :')\n",
    "i=0\n",
    "j=len(string)\n",
    "k=j//2\n",
    "if j<4:\n",
    "        print(string)\n",
    "else :\n",
    "    for x in string :\n",
    "        if j<4:\n",
    "            print(string)\n",
    "        if j%2==0:\n",
    "            i+=1\n",
    "            if i==k or i==k+1:\n",
    "                print(ord(x),end=' ')\n",
    "            else:\n",
    "                print(x,end=' ')\n",
    "        else :\n",
    "            i+=1\n",
    "            if i==k or i==k+1 or i==k+2:\n",
    "                print(ord(x),end=' ')\n",
    "            else:\n",
    "                print(x,end=' ')"
   ]
  },
  {
   "cell_type": "code",
   "execution_count": 9,
   "metadata": {},
   "outputs": [
    {
     "name": "stdout",
     "output_type": "stream",
     "text": [
      "c o m 112 117 t e r "
     ]
    }
   ],
   "source": [
    "strx=input()\n",
    "x=len(strx)\n",
    "if x>4:\n",
    "    if x%2==0:\n",
    "        for i in range(x):\n",
    "            if i==x/2 or i==((x/2)-1):\n",
    "                print(ord(strx[i]),end=\" \")\n",
    "            else:\n",
    "                print(strx[i],end=\" \")\n",
    "    else:\n",
    "        for i in range(x):\n",
    "            if i==int(x/2) or i==int((x/2)-1) or i==int((x/2)+1) :\n",
    "                print(ord(strx[i]),end=\" \")\n",
    "            else:\n",
    "                print(strx[i],end=\" \")"
   ]
  }
 ],
 "metadata": {
  "interpreter": {
   "hash": "07efdcd4b820c98a756949507a4d29d7862823915ec7477944641bea022f4f62"
  },
  "kernelspec": {
   "display_name": "Python 3.8.8 64-bit ('base': conda)",
   "language": "python",
   "name": "python3"
  },
  "language_info": {
   "codemirror_mode": {
    "name": "ipython",
    "version": 3
   },
   "file_extension": ".py",
   "mimetype": "text/x-python",
   "name": "python",
   "nbconvert_exporter": "python",
   "pygments_lexer": "ipython3",
   "version": "3.10.0"
  },
  "orig_nbformat": 4
 },
 "nbformat": 4,
 "nbformat_minor": 2
}
