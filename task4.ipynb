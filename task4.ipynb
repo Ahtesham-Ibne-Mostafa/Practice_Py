{
 "cells": [
  {
   "cell_type": "code",
   "execution_count": 1,
   "id": "6b68ac5f",
   "metadata": {},
   "outputs": [
    {
     "name": "stdout",
     "output_type": "stream",
     "text": [
      "-13\n"
     ]
    }
   ],
   "source": [
    "# is the value is negative [ x % y =(x // y ) * x - y ]\n",
    "x = 5\n",
    "y = -2\n",
    "# print ( x % y )\n",
    "print ( ( x // y ) * x - y )"
   ]
  },
  {
   "cell_type": "code",
   "execution_count": 23,
   "id": "83fb0b2a",
   "metadata": {},
   "outputs": [
    {
     "name": "stdout",
     "output_type": "stream",
     "text": [
      "whats your age :20\n",
      "45\n"
     ]
    }
   ],
   "source": [
    "x = input ('whats your age :' )\n",
    "x = int(x)\n",
    "y= x % 2\n",
    "if( y != 0):\n",
    "    z=5*6\n",
    "    print (z)\n",
    "else:\n",
    "    z=5*9\n",
    "    print(z)"
   ]
  },
  {
   "cell_type": "code",
   "execution_count": null,
   "id": "67dde7eb",
   "metadata": {},
   "outputs": [],
   "source": [
    "x= int (input('whats your mark in exam :'))\n",
    "if (x >= 80):\n",
    "    print ('A+')\n",
    "elif (x >= 70):\n",
    "    print ('A')\n",
    "elif (x >= 33):\n",
    "    print ('pass')\n",
    "else :\n",
    "    print ('fail')"
   ]
  },
  {
   "cell_type": "code",
   "execution_count": null,
   "id": "ec58636b",
   "metadata": {},
   "outputs": [],
   "source": [
    "x= int (input('whats your mark in exam :'))\n",
    "if (x >= 33):\n",
    "    if (x >= 70):\n",
    "        if (x >= 80):\n",
    "            print ('A+')\n",
    "        else:\n",
    "                print ('A')\n",
    "    else:\n",
    "        print ('pass')\n",
    "else :\n",
    "    print ('fail')"
   ]
  }
 ],
 "metadata": {
  "kernelspec": {
   "display_name": "Python 3",
   "language": "python",
   "name": "python3"
  },
  "language_info": {
   "codemirror_mode": {
    "name": "ipython",
    "version": 3
   },
   "file_extension": ".py",
   "mimetype": "text/x-python",
   "name": "python",
   "nbconvert_exporter": "python",
   "pygments_lexer": "ipython3",
   "version": "3.8.8"
  }
 },
 "nbformat": 4,
 "nbformat_minor": 5
}
