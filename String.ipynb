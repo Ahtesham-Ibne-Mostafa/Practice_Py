{
 "cells": [
  {
   "cell_type": "code",
   "execution_count": null,
   "metadata": {},
   "outputs": [],
   "source": [
    "x='_$#@'\n",
    "y='1234567890'\n",
    "z=input('Enter your new password :')\n",
    "low=0\n",
    "up=0\n",
    "num=0\n",
    "sign=0\n",
    "error=''\n",
    "for i in z:\n",
    "    if i in x:\n",
    "        sign+=1\n",
    "    elif i in y:\n",
    "        num+=1\n",
    "    elif 64< ord(i)<91:\n",
    "        up+=1\n",
    "    else:\n",
    "        low+=1\n",
    "if low!=0 and up!=0 and sign !=0 and num!=0 :\n",
    "    error+='OK'\n",
    "else :\n",
    "    if low==0:\n",
    "        error+='Lowercase Missing'\n",
    "    if up==0 and error=='':\n",
    "        error+='Uppercase Missing'\n",
    "    else:\n",
    "        error+=', Uppercase Missing'\n",
    "    if num==0 and error=='':\n",
    "        error+='Digit Missing'\n",
    "    else:\n",
    "        error+=', Digit Missing'\n",
    "    if sign==0 and error =='':\n",
    "        error+='Special Character Missing'\n",
    "    else:\n",
    "        error+=', Special Character Missing'\n",
    "print(error)"
   ]
  },
  {
   "cell_type": "code",
   "execution_count": null,
   "metadata": {},
   "outputs": [],
   "source": [
    "x=input('Enter the first string :')\n",
    "y=input('Enter the second string :')\n",
    "z=''\n",
    "for i in x:\n",
    "    if i in y:\n",
    "        z+=i\n",
    "for j in y:\n",
    "    if j in x:\n",
    "        z+=j\n",
    "if z=='':\n",
    "    print('Nothing in common.')\n",
    "else:\n",
    "    print(z)"
   ]
  },
  {
   "cell_type": "code",
   "execution_count": null,
   "metadata": {},
   "outputs": [],
   "source": [
    "x= input('Enter the string :')\n",
    "if 'too' and 'good' in x:\n",
    "    if x.index('good')==(x.index('too')+4):\n",
    "        x=x.replace('too good','excellent')\n",
    "print(x)"
   ]
  },
  {
   "cell_type": "code",
   "execution_count": null,
   "metadata": {},
   "outputs": [],
   "source": [
    "x=input('Enter the string : ')\n",
    "y=0\n",
    "z=''\n",
    "for i in x:\n",
    "    if y==2:\n",
    "        break\n",
    "    elif 64<ord(i)<91:\n",
    "        y+=1\n",
    "    elif y==1:\n",
    "        z+=i\n",
    "if z=='':\n",
    "    print('BLANK')\n",
    "else:\n",
    "    print(z)"
   ]
  },
  {
   "cell_type": "code",
   "execution_count": null,
   "metadata": {},
   "outputs": [],
   "source": [
    "x='1234567890'\n",
    "y=0\n",
    "z=input('Enter the input : ')\n",
    "for i in z:\n",
    "    if i in x:\n",
    "        y+=1\n",
    "if y==0:\n",
    "    print('WORD')\n",
    "elif y==len(z):\n",
    "    print('NUMBER')\n",
    "else:\n",
    "    print('MIXED')"
   ]
  },
  {
   "cell_type": "code",
   "execution_count": null,
   "metadata": {},
   "outputs": [],
   "source": [
    "\n",
    "x=input('Enter a string :')\n",
    "y=0\n",
    "for i in x:\n",
    "    if 64<ord(i)<91:\n",
    "        y+=1\n",
    "if y>(len(x)/2):\n",
    "    print(x.upper())\n",
    "else:\n",
    "    print(x.lower())"
   ]
  }
 ],
 "metadata": {
  "language_info": {
   "name": "python"
  },
  "orig_nbformat": 4
 },
 "nbformat": 4,
 "nbformat_minor": 2
}
