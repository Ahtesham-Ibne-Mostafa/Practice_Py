{
 "cells": [
  {
   "cell_type": "code",
   "execution_count": 21,
   "metadata": {},
   "outputs": [
    {
     "data": {
      "text/plain": [
       "10"
      ]
     },
     "execution_count": 21,
     "metadata": {},
     "output_type": "execute_result"
    }
   ],
   "source": [
    "def fuk(x):\n",
    "    suk=0\n",
    "    for i in x:\n",
    "        suk+=int(i)\n",
    "    return suk\n",
    "x=input('Enter the list :')[1:-1].split(\",\")\n",
    "dik=fuk(x)/len(x)\n",
    "print(dik)"
   ]
  },
  {
   "cell_type": "code",
   "execution_count": 36,
   "metadata": {},
   "outputs": [
    {
     "name": "stdout",
     "output_type": "stream",
     "text": [
      "(0, 8)\n"
     ]
    }
   ],
   "source": [
    "def ak(x,y):\n",
    "    return x-5,y+2\n",
    "print(ak(5,6))"
   ]
  },
  {
   "cell_type": "code",
   "execution_count": null,
   "metadata": {},
   "outputs": [],
   "source": [
    "def show_palindromic_triangle(i):\n",
    "    a=i-1\n",
    "    for z in range(1,i+1):\n",
    "        print('  '*a,end='')\n",
    "        a-=1\n",
    "        for x in range(1,z):\n",
    "            print(str(x),end=' ')\n",
    "        for y in range(z,0,-1):\n",
    "            print(str(y),end=' ')\n",
    "        print(end='\\n')\n",
    "show_palindromic_triangle(int(input(\"Enter the number :\")))"
   ]
  },
  {
   "cell_type": "code",
   "execution_count": null,
   "metadata": {},
   "outputs": [],
   "source": [
    "def bazar(x,y='Dhanmondi'):\n",
    "    x=x[1:-1].replace('\"','').split(', ')\n",
    "    dic={'Rice':105,'Potato':20,'Chicken':250,'Beef':510,'Oil':85}\n",
    "    total=30\n",
    "    for i in x:\n",
    "        total+=dic[i]\n",
    "    if y!='Dhanmondi':\n",
    "        total+=40\n",
    "    return total\n",
    "bazar(input('Enter the list of the order items :'),'Gazipur')"
   ]
  },
  {
   "cell_type": "code",
   "execution_count": null,
   "metadata": {},
   "outputs": [],
   "source": [
    "def snake(x,y):\n",
    "    print(x)\n",
    "    z=x[0]\n",
    "    a=''\n",
    "    for i in range(1,len(x)):\n",
    "        if i%y==0:\n",
    "            a+=x[i]\n",
    "        else:\n",
    "            z+=x[i]\n",
    "    return(z+a)\n",
    "snake(input('Enter the Sentence :'),int(input('Enter the position :')))"
   ]
  },
  {
   "cell_type": "code",
   "execution_count": null,
   "metadata": {},
   "outputs": [],
   "source": [
    "def snake(z,x,y):\n",
    "    a=0\n",
    "    if z=='+':\n",
    "        a=x+y\n",
    "    elif z=='-':\n",
    "        a=x-y\n",
    "    elif z=='/':\n",
    "        a=x/y\n",
    "    elif z=='*':\n",
    "        a=x*y\n",
    "    return a\n",
    "snake(input(\"Operator ('+', '-', '/', '*') :\")\n",
    ",int(input('First Operand (any number) :')),\n",
    "int(input('Second Operand (any number) :')))"
   ]
  },
  {
   "cell_type": "code",
   "execution_count": null,
   "metadata": {},
   "outputs": [],
   "source": [
    "def remo(list_name):\n",
    "    y=0\n",
    "    for i in list_name:\n",
    "        if list_name.count(i)>2:\n",
    "            y+=list_name.count(i)-2\n",
    "            for j in range(list_name.count(i)-2):\n",
    "                list_name.remove(i)\n",
    "    print('Removed:',y)\n",
    "    return list_name\n",
    "print(remo([1, 2, 3, 3, 3, 3, 4, 5, 8, 8]))"
   ]
  },
  {
   "cell_type": "code",
   "execution_count": null,
   "metadata": {},
   "outputs": [],
   "source": [
    "def rem_duplicate(x):\n",
    "    z=[]\n",
    "    for i in x:\n",
    "        if i not in z:\n",
    "            z.append(i)\n",
    "    return tuple(z)\n",
    "print(rem_duplicate((\"Hi\", 1, 2, 3, 3, \"Hi\", 'a', 'a', [1,2])))"
   ]
  },
  {
   "cell_type": "code",
   "execution_count": null,
   "metadata": {},
   "outputs": [],
   "source": [
    "def make_square(x):\n",
    "    y={}\n",
    "    for i in range(int(x[1]),int(x[3])+1):\n",
    "        y[i]=i**2\n",
    "    return y\n",
    "make_square(input('Enter the tuple :'))"
   ]
  },
  {
   "cell_type": "code",
   "execution_count": null,
   "metadata": {},
   "outputs": [],
   "source": [
    "def area_circumference_generator(x):\n",
    "    import math\n",
    "    a=((math.pi*(x**2)),(2*x*math.pi))\n",
    "    return a\n",
    "y=float(input(\"Enter the redius of the circle :\"))\n",
    "print(area_circumference_generator(y))\n",
    "b,c=area_circumference_generator(y)\n",
    "print('Area of the circle is',b, 'and circumference is',c)"
   ]
  },
  {
   "cell_type": "code",
   "execution_count": null,
   "metadata": {},
   "outputs": [],
   "source": [
    "def show_palindrome(i):\n",
    "    for x in range(1,i):\n",
    "        print(str(x),end='')\n",
    "    for y in range(i,0,-1):\n",
    "        print(str(y),end='')\n",
    "show_palindrome(int(input('Enter the number :')))"
   ]
  },
  {
   "cell_type": "code",
   "execution_count": null,
   "metadata": {},
   "outputs": [],
   "source": [
    "y=int(input('Enter the number of days :'))\n",
    "def days(x):\n",
    "    print(x//365,'years,',(x%365)//30,'months and',(x%365)%30,'days')\n",
    "days(y)"
   ]
  },
  {
   "cell_type": "code",
   "execution_count": null,
   "metadata": {},
   "outputs": [],
   "source": [
    "def calculate_tax(your_age, salary, current_job_designation):\n",
    "    if current_job_designation.lower()=='president' or your_age<18 or salary<10000:\n",
    "        print(0)\n",
    "    elif 10000<=salary<=20000:\n",
    "        print((salary/100)*5)\n",
    "    else:\n",
    "        print((salary/100)*10)\n",
    "calculate_tax(int(input('Enter your age :')),int(input(\"Enter your salary :\")),\n",
    "              input('Enter your current job designation :'))"
   ]
  },
  {
   "cell_type": "code",
   "execution_count": null,
   "metadata": {},
   "outputs": [],
   "source": [
    "def up_low(x):\n",
    "    a=0\n",
    "    b=0\n",
    "    for i in x:\n",
    "        if 96<ord(i)<123:\n",
    "            a+=1\n",
    "        elif 64<ord(i)<91:\n",
    "            b+=1\n",
    "    print('No. of Uppercase characters :',b)\n",
    "    print('No. of Lowercase Characters:',a)\n",
    "up_low(input('Enter the string :'))"
   ]
  },
  {
   "cell_type": "code",
   "execution_count": null,
   "metadata": {},
   "outputs": [],
   "source": [
    "def foo_moo(x):\n",
    "    if x%2==0 and x%3==0 :\n",
    "        print('FooMoo')\n",
    "    elif x%2==0 :\n",
    "        print('Foo')\n",
    "    elif x%3==0:\n",
    "        print('Moo')\n",
    "    else:\n",
    "        print('Boo')\n",
    "foo_moo(int(input('Enter the number :')))    "
   ]
  },
  {
   "cell_type": "code",
   "execution_count": null,
   "metadata": {},
   "outputs": [],
   "source": [
    "def fibonacci(y):\n",
    "    x=[0,1]\n",
    "    i=x[len(x)-1]\n",
    "    while i<=y:\n",
    "        x.append(i)\n",
    "        i+=x[len(x)-2]\n",
    "    for j in x:\n",
    "        print(j,end=' ')\n",
    "fibonacci(int(input('Enter the limit :')))"
   ]
  },
  {
   "cell_type": "code",
   "execution_count": null,
   "metadata": {},
   "outputs": [],
   "source": [
    "def even_checker(x) :\n",
    "    if x%2==0:\n",
    "        print('Even!!')\n",
    "    else:\n",
    "        print('Odd!!')\n",
    "even_checker(int(input('Enter the number :')))"
   ]
  },
  {
   "cell_type": "code",
   "execution_count": null,
   "metadata": {},
   "outputs": [],
   "source": [
    "def yes(x):\n",
    "    a=['a','b','c','d','e','f','g','h','i','j']\n",
    "    n=0\n",
    "    for i in a:\n",
    "        if i not in x:\n",
    "            n=6\n",
    "            break\n",
    "        else:\n",
    "            n=5\n",
    "    print('PSG will win the Champions League this season\\n'*n)\n",
    "yes(input(\"Enter the string :\").lower())"
   ]
  },
  {
   "cell_type": "code",
   "execution_count": null,
   "metadata": {},
   "outputs": [],
   "source": [
    "def individul_bonus_calculation(*x):\n",
    "    a=[]\n",
    "    y=[]\n",
    "    b=0\n",
    "    for i in x:\n",
    "        y.append(i)\n",
    "    y.append('r')\n",
    "    for i in y:\n",
    "        if a==[]:\n",
    "            pass\n",
    "        elif str(i).isdigit()==False:\n",
    "            b=(a[3]/100)*a[1]*a[2]\n",
    "            if a[2]>30:\n",
    "                b+=10000\n",
    "            elif 19<a[2]<31:\n",
    "                b+=5000\n",
    "            print(f\"{a[0]} earned a bonus of {int(b)} Taka for {a[2]} goals.\")\n",
    "            b=0\n",
    "            a=[]\n",
    "        a.append(i)\n",
    "individul_bonus_calculation(\"Neymar\", 1200000, 35, 5, 'Jamal', 700000, 19, 8, 'Luis', 80000, 25, 10,'Ahtesham',100000,100,20)"
   ]
  },
  {
   "cell_type": "code",
   "execution_count": null,
   "metadata": {},
   "outputs": [],
   "source": [
    "def Student(x,y):\n",
    "    y=y[1:-1].split(',')\n",
    "    a=[]\n",
    "    while y:\n",
    "        z=int(y[0])\n",
    "        for i in y:\n",
    "            if int(i)<z:\n",
    "                z=int(i)\n",
    "        a.append(z)\n",
    "        y.remove(str(z))\n",
    "    b=0\n",
    "    if len(a)%2==0:\n",
    "        a.remove(a[0])\n",
    "        a.remove(a[1])\n",
    "        b+=sum(a)\n",
    "        b=b/len(a)\n",
    "    else:\n",
    "        a.remove(a[0])\n",
    "        b+=sum(a)\n",
    "        b=b/len(a)\n",
    "    print(f'Average of {x}’s quiz marks: {b}')\n",
    "Student(input('Enter the name:'),input('Enter the list :'))"
   ]
  },
  {
   "cell_type": "markdown",
   "metadata": {},
   "source": [
    "Write a python function that takes a string as an argument and searches all \n",
    "the characters having at least three occurrences (except the spaces and \n",
    "special characters) in that string. Then, prepare and RETURN a dictionary \n",
    "where the keys will be the characters and values will be summation of the \n",
    "positions of those characters in the string. (You are not allowed to use \n",
    "builtin .count() function here)\n",
    "\n",
    "================================================\n",
    "Sample Input 1:\n",
    "function_name(\"joker poker killer angry spider\")\n",
    "\n",
    "Sample Output 1:\n",
    "{'k': 22, 'e': 57, 'r': 83}\n",
    "\n",
    "Explanation1:\n",
    "Here, the character ‘k’ has appeared 3 times in 2, 8 and 12 indices, so the \n",
    "value will be 2+8+12 = 22. The character ‘e’ has appeared 4 times in 3, 9, \n",
    "16 and 29 indices, so the value will be 3+9+16+29 = 57. And so on.\n",
    "\n",
    "================================================\n",
    "Sample Input 2:\n",
    "function_name(\"one two three plant a tree\")\n",
    "\n",
    "Sample Output 2:\n",
    "{'e': 74, 't': 52}\n",
    "\n",
    "Explanation2:\n",
    "Here, the character ‘e’ has appeared 5 times in 2, 11, 12, 24 and 25 \n",
    "indices, so the value will be 2+11+12+24+25 = 74. The character ‘t’ has \n",
    "appeared 4 times in 4, 8, 18 and 22 indices, so the value will be 4+8+18+22 \n",
    "= 52."
   ]
  },
  {
   "cell_type": "code",
   "execution_count": 30,
   "metadata": {},
   "outputs": [
    {
     "name": "stdout",
     "output_type": "stream",
     "text": [
      "o\n",
      "o\n",
      "n\n",
      "n\n",
      "e\n",
      "e\n",
      "e\n",
      "e\n",
      "e\n",
      "t\n",
      "t\n",
      "t\n",
      "t\n",
      "w\n",
      "o\n",
      "o\n",
      "t\n",
      "t\n",
      "t\n",
      "t\n",
      "h\n",
      "r\n",
      "r\n",
      "e\n",
      "e\n",
      "e\n",
      "e\n",
      "e\n",
      "e\n",
      "e\n",
      "e\n",
      "e\n",
      "e\n",
      "p\n",
      "l\n",
      "a\n",
      "a\n",
      "n\n",
      "n\n",
      "t\n",
      "t\n",
      "t\n",
      "t\n",
      "a\n",
      "a\n",
      "t\n",
      "t\n",
      "t\n",
      "t\n",
      "r\n",
      "r\n",
      "e\n",
      "e\n",
      "e\n",
      "e\n",
      "e\n",
      "e\n",
      "e\n",
      "e\n",
      "e\n",
      "e\n"
     ]
    },
    {
     "data": {
      "text/plain": [
       "{'e': 26, 't': 0}"
      ]
     },
     "execution_count": 30,
     "metadata": {},
     "output_type": "execute_result"
    }
   ],
   "source": [
    "def indexs(a):\n",
    "    c={}\n",
    "    x=0\n",
    "    for i in a:\n",
    "        b=0\n",
    "        if 96<ord(i)<123 and i!=\" \":\n",
    "            x=0\n",
    "            for j in a:\n",
    "                y=0\n",
    "                b+=1\n",
    "                if j==i:\n",
    "                    print(j)\n",
    "                    y+=b\n",
    "                    x+=1\n",
    "            if x>=3:\n",
    "                c[i]=y\n",
    "    return c\n",
    "indexs('one two three plant a tree')"
   ]
  },
  {
   "cell_type": "code",
   "execution_count": null,
   "metadata": {},
   "outputs": [],
   "source": [
    "def fraction(x,y):\n",
    "    z=0\n",
    "    if y!=0 and x!=0:\n",
    "        z=(x/y)-(x//y)\n",
    "    return z\n",
    "fraction(int(input('Enter the first number :')),int(input('Enter the second number : ')))"
   ]
  },
  {
   "cell_type": "code",
   "execution_count": null,
   "metadata": {},
   "outputs": [],
   "source": [
    "def cap(x):\n",
    "  x=x.split(' ')\n",
    "  y=''\n",
    "  z='.!?'\n",
    "  for i in range(len(x)):\n",
    "    if x[i]=='i':\n",
    "      y+='I'\n",
    "      y+=' '\n",
    "    elif x[i-1][-1] in z and i!=len(x)-1 or i==0:\n",
    "      for j in x[i]:\n",
    "        if j==x[i][0]:\n",
    "          y+=j.upper()\n",
    "        else:\n",
    "          y+=j\n",
    "      y+=' '\n",
    "    else:\n",
    "      y+=x[i]\n",
    "      y+=' '\n",
    "  print(y)\n",
    "cap(input('Enter the string :'))"
   ]
  },
  {
   "cell_type": "code",
   "execution_count": null,
   "metadata": {},
   "outputs": [],
   "source": [
    "def day(x):\n",
    "  years=x//365\n",
    "  months=(x-years*365)//30\n",
    "  days=x-years*365-months*30\n",
    "  print(years,'years,',months,'months and',days,'days')\n",
    "day(int(input('Enter the number of days :')))"
   ]
  },
  {
   "cell_type": "code",
   "execution_count": null,
   "metadata": {},
   "outputs": [],
   "source": [
    "def pal(x):\n",
    "  x=x.replace(' ','').lower()\n",
    "  y=x[0:int(len(x)/2)]\n",
    "  z=x[:int(len(x)/2):-1]\n",
    "  if y==z:\n",
    "    print('Palindrome')\n",
    "  else:\n",
    "    print('Not a Palindrome')\n",
    "pal(input('Enter the string :'))"
   ]
  },
  {
   "cell_type": "code",
   "execution_count": null,
   "metadata": {},
   "outputs": [],
   "source": [
    "def vowel(x):\n",
    "    y='aeiouAEIOU'\n",
    "    z=0\n",
    "    a='Vowels: '\n",
    "    for i in x:\n",
    "        if i in y:\n",
    "            a+=i\n",
    "            a+=', '\n",
    "            z+=1\n",
    "    if z!=0:\n",
    "        print(a[0:-2]+'.','Total number of vowels:',z)\n",
    "    else:\n",
    "        print('No vowels in the name')\n",
    "vowel(input('Enter your full name: '))"
   ]
  },
  {
   "cell_type": "code",
   "execution_count": null,
   "metadata": {},
   "outputs": [],
   "source": [
    "def replace_domain(email,new_domain,old_domain='kaaj.com'):\n",
    "    new=''\n",
    "    if email[-9:]==new_domain:\n",
    "        print('Unchanged:',email)\n",
    "    else:\n",
    "        for i in email:\n",
    "            if i=='@':\n",
    "                new+=i\n",
    "                new+=new_domain\n",
    "                break\n",
    "            else:\n",
    "                new+=i\n",
    "        print('Changed:',new)\n",
    "replace_domain('alice@kaaj.com', 'sheba.xyz')  "
   ]
  },
  {
   "cell_type": "code",
   "execution_count": null,
   "metadata": {},
   "outputs": [],
   "source": [
    "def food(burger,place='Mohakhali'):\n",
    "    price=0\n",
    "    if burger=='BBQ Chicken Cheese Burger':\n",
    "        price=250\n",
    "    elif burger =='Beef Burger':\n",
    "        price=170\n",
    "    elif burger =='Naga Drums':\n",
    "        price=200\n",
    "    price=price+(price/100)*8\n",
    "    if place!=\"Mohakhali\":\n",
    "        price+=60\n",
    "    else:\n",
    "        price+=40\n",
    "    return price\n",
    "food('Beef Burger')"
   ]
  },
  {
   "cell_type": "code",
   "execution_count": null,
   "metadata": {},
   "outputs": [],
   "source": [
    "def div(minimum, maximum, divisor):\n",
    "    x=0\n",
    "    for i in range(minimum,maximum):\n",
    "        if i%divisor==0:\n",
    "            x+=i\n",
    "    return x\n",
    "div(int(input('Enter the minimum number :')),int(input('Enter the maximum number : ')),int(input('Enter the divisor :')))"
   ]
  },
  {
   "cell_type": "code",
   "execution_count": null,
   "metadata": {},
   "outputs": [],
   "source": [
    "def BMI(height, weight):\n",
    "    bmi=round(weight/(height/100)**2,1)\n",
    "    x=''\n",
    "    if bmi<18.5:\n",
    "        x= 'Underweight'\n",
    "    elif 18.5<=bmi<=24.9:\n",
    "        x='Normal'\n",
    "    elif 25<=bmi<=30:\n",
    "        x='Overweight'\n",
    "    else:\n",
    "        x='Obese'\n",
    "    print(f'Score is {bmi}. You are {x}')\n",
    "BMI(int(input('Enter the height :')),int(input('Enter the weight : ')))"
   ]
  }
 ],
 "metadata": {
  "kernelspec": {
   "display_name": "Python 3.10.6 64-bit (windows store)",
   "language": "python",
   "name": "python3"
  },
  "language_info": {
   "codemirror_mode": {
    "name": "ipython",
    "version": 3
   },
   "file_extension": ".py",
   "mimetype": "text/x-python",
   "name": "python",
   "nbconvert_exporter": "python",
   "pygments_lexer": "ipython3",
   "version": "3.10.7"
  },
  "orig_nbformat": 4,
  "vscode": {
   "interpreter": {
    "hash": "efb25ee08ad69dead2ab5496ee0c8d86b1adbbae397278509c1aab5e90353b65"
   }
  }
 },
 "nbformat": 4,
 "nbformat_minor": 2
}
