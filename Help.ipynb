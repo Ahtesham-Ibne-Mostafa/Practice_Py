{
 "cells": [
  {
   "cell_type": "code",
   "execution_count": 12,
   "metadata": {},
   "outputs": [
    {
     "name": "stdout",
     "output_type": "stream",
     "text": [
      "sj sa df sd fd a r e w f d s a v c x z \n"
     ]
    }
   ],
   "source": [
    "x=int(input(\"Enter the number of sets of strings: \"))\n",
    "for k in range(x):\n",
    "    a=0\n",
    "    b=''\n",
    "    z=input('Enter the set of string: ')\n",
    "    my_list=z.split(' ')\n",
    "    for i in range(0, len(my_list)-1): \n",
    "        for j in range(0, len(my_list)- i - 1):\n",
    "            if (len(my_list[j]) < len(my_list[j + 1])):\n",
    "                y = my_list[j]\n",
    "                my_list[j] = my_list[j + 1]\n",
    "                my_list[j + 1] = y\n",
    "    for c in my_list:\n",
    "        b+=c+' '\n",
    "    print(b)\n"
   ]
  },
  {
   "cell_type": "code",
   "execution_count": 7,
   "metadata": {},
   "outputs": [
    {
     "name": "stdout",
     "output_type": "stream",
     "text": [
      "2\n",
      "4\n",
      "5\n",
      "3\n",
      "1\n"
     ]
    }
   ],
   "source": [
    "my_list = []\n",
    "x=int(input('Enter the number of elements: '))\n",
    "for i in range(x):\n",
    "    y=int(input('Enter the element: '))\n",
    "    my_list.append(y)\n",
    "for i in range(0, len(my_list)-1): \n",
    "    for j in range(0, len(my_list)- i - 1):\n",
    "        if (my_list[j] > my_list[j + 1]):\n",
    "            y = my_list[j]\n",
    "            my_list[j] = my_list[j + 1]\n",
    "            my_list[j + 1] = y\n",
    "f=[]\n",
    "g=[]\n",
    "for i in my_list:\n",
    "    if i%2==0:\n",
    "        f.append(i)\n",
    "    else:\n",
    "        g.append(i)\n",
    "for i in f:\n",
    "    print(i)\n",
    "for i in range(len(g)-1,-1,-1):\n",
    "    print(g[i])\n"
   ]
  },
  {
   "cell_type": "code",
   "execution_count": 8,
   "metadata": {},
   "outputs": [
    {
     "name": "stdout",
     "output_type": "stream",
     "text": [
      "TopCoder\n"
     ]
    }
   ],
   "source": [
    "a=int(input('Enter the number of test cases: '))\n",
    "for i in range(a):\n",
    "    x=input('Enter the test case: ')\n",
    "    x=x.split(' ')\n",
    "    z=''\n",
    "    if len(x[0])>len(x[1]):\n",
    "        y=len(x[1])\n",
    "        f=x[0]\n",
    "    else:\n",
    "        y=len(x[0])\n",
    "        f=x[1]\n",
    "    for i in range(y):\n",
    "        z+=x[0][i]\n",
    "        z+=x[1][i]\n",
    "    z+=f[y:]\n",
    "    print(z)"
   ]
  },
  {
   "cell_type": "code",
   "execution_count": 6,
   "metadata": {},
   "outputs": [
    {
     "name": "stdout",
     "output_type": "stream",
     "text": [
      "40004568999\n"
     ]
    }
   ],
   "source": [
    "x=int(input('Enter the number of tests: '))\n",
    "for i in range(x):\n",
    "    a=input('Enter the number: ')\n",
    "    y=[]\n",
    "    count=0\n",
    "    for i in a:\n",
    "        if i=='0':\n",
    "            count+=1\n",
    "        y.append(int(i))  \n",
    "    y=sorted(y)\n",
    "    z=str(y[count])\n",
    "    y.remove(y[count])\n",
    "    for i in y:\n",
    "        z+=str(i)\n",
    "    print(z)"
   ]
  },
  {
   "cell_type": "code",
   "execution_count": 24,
   "metadata": {},
   "outputs": [
    {
     "name": "stdout",
     "output_type": "stream",
     "text": [
      "error\n"
     ]
    }
   ],
   "source": [
    "x=input('Enter the comad: ')\n",
    "z=['0','1','2','3','4','5','6','7','8','9']\n",
    "y=''\n",
    "for i in x:\n",
    "    if i=='o' or i=='O':\n",
    "        y+='0'\n",
    "    elif i==\"l\":\n",
    "        y+='1'\n",
    "    elif i==' ' or i==',':\n",
    "        continue\n",
    "    elif i in z:\n",
    "        y+=i\n",
    "if y==''or  int(y)>2147483647 :\n",
    "    print('error')\n",
    "else:\n",
    "    print(y)"
   ]
  },
  {
   "cell_type": "code",
   "execution_count": 29,
   "metadata": {},
   "outputs": [
    {
     "name": "stdout",
     "output_type": "stream",
     "text": [
      "ThIs Is A dAnCiNg SeNtEnCe\n"
     ]
    }
   ],
   "source": [
    "x=input('Enter the string: ')\n",
    "y=''\n",
    "z='Lower'\n",
    "for i in x:\n",
    "    if i==\" \":\n",
    "        y+=i\n",
    "    elif z=='Lower':\n",
    "        y+=i.upper()\n",
    "        z='Upper'\n",
    "    else:\n",
    "        y+=i.lower()\n",
    "        z='Lower'\n",
    "print(y)"
   ]
  },
  {
   "cell_type": "code",
   "execution_count": 33,
   "metadata": {},
   "outputs": [
    {
     "name": "stdout",
     "output_type": "stream",
     "text": [
      "b a c "
     ]
    }
   ],
   "source": [
    "x=int(input('Enter the number: '))\n",
    "markdict={}\n",
    "for i in range(x):\n",
    "    y=input('Enter the line: ').split(' ')\n",
    "    markdict[y[0]]=y[1]\n",
    "marklist=list(markdict.items())\n",
    "l=len(marklist)\n",
    "for i in range(l-1):\n",
    "    for j in range(i+1,l):\n",
    "        if marklist[i][1]>marklist[j][1]:\n",
    "            t=marklist[i]\n",
    "            marklist[i]=marklist[j]\n",
    "            marklist[j]=t\n",
    "    sortdict=dict(marklist)\n",
    "for i in sortdict.keys():\n",
    "    print(i,end=' ')"
   ]
  }
 ],
 "metadata": {
  "kernelspec": {
   "display_name": "Python 3.10.8 64-bit (microsoft store)",
   "language": "python",
   "name": "python3"
  },
  "language_info": {
   "codemirror_mode": {
    "name": "ipython",
    "version": 3
   },
   "file_extension": ".py",
   "mimetype": "text/x-python",
   "name": "python",
   "nbconvert_exporter": "python",
   "pygments_lexer": "ipython3",
   "version": "3.10.8"
  },
  "orig_nbformat": 4,
  "vscode": {
   "interpreter": {
    "hash": "efb25ee08ad69dead2ab5496ee0c8d86b1adbbae397278509c1aab5e90353b65"
   }
  }
 },
 "nbformat": 4,
 "nbformat_minor": 2
}
