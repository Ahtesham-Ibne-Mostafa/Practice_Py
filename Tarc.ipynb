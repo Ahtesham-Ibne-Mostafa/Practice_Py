{
 "cells": [
  {
   "cell_type": "code",
   "execution_count": 13,
   "metadata": {},
   "outputs": [
    {
     "name": "stdout",
     "output_type": "stream",
     "text": [
      "fooooootbal\n"
     ]
    }
   ],
   "source": [
    "a=input('Enter the string :')+' '\n",
    "b=1\n",
    "c=a[0]\n",
    "for i in range(1,len(a)):\n",
    "    if a[i]==a[i-1] :\n",
    "        b+=1\n",
    "    elif b!=1 and a[i]!=a[i-1]:\n",
    "        if b%2==0:\n",
    "            c=c[0:-int(b/2)]\n",
    "        else:\n",
    "            c+=a[i-1]*b\n",
    "        b=1\n",
    "    c+=a[i]\n",
    "print(c[0:-1])"
   ]
  }
 ],
 "metadata": {
  "interpreter": {
   "hash": "efb25ee08ad69dead2ab5496ee0c8d86b1adbbae397278509c1aab5e90353b65"
  },
  "kernelspec": {
   "display_name": "Python 3.10.5 64-bit (windows store)",
   "language": "python",
   "name": "python3"
  },
  "language_info": {
   "codemirror_mode": {
    "name": "ipython",
    "version": 3
   },
   "file_extension": ".py",
   "mimetype": "text/x-python",
   "name": "python",
   "nbconvert_exporter": "python",
   "pygments_lexer": "ipython3",
   "version": "3.10.5"
  },
  "orig_nbformat": 4
 },
 "nbformat": 4,
 "nbformat_minor": 2
}
