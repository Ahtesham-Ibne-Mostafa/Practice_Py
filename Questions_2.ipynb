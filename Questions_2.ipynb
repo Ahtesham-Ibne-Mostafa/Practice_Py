{
 "cells": [
  {
   "cell_type": "code",
   "execution_count": 4,
   "metadata": {},
   "outputs": [
    {
     "name": "stdout",
     "output_type": "stream",
     "text": [
      "Book 1 on Tuesday\n",
      "Book 2 on Saturday\n",
      "Book 3 on Tuesday\n"
     ]
    }
   ],
   "source": [
    "days=int(input('enter the number of the days :'))\n",
    "weeks=days//7\n",
    "i=0\n",
    "for x in range(1,weeks+1):\n",
    "    i+=1\n",
    "    print('Book',i,'on Tuesday')\n",
    "    i+=1\n",
    "    print('Book',i,'on Saturday')\n",
    "if days%7>2 and days%7<5 :\n",
    "    i+=1\n",
    "    print('Book',i,'on Tuesday')\n",
    "elif days%7>5:\n",
    "    i+=1\n",
    "    print('Book',i,'on Tuesday')\n",
    "    i+=1\n",
    "    print('Book',i,'on Saturday')"
   ]
  },
  {
   "cell_type": "code",
   "execution_count": 2,
   "metadata": {},
   "outputs": [
    {
     "name": "stdout",
     "output_type": "stream",
     "text": [
      "['a', ' ', 'k', 'e', 'r']\n"
     ]
    }
   ],
   "source": [
    "string=input('enter the string :').lower()\n",
    "List=[]\n",
    "for x in string :\n",
    "    if x not in List :\n",
    "        List.append(x)\n",
    "i=0\n",
    "list1=[]\n",
    "for y in List :\n",
    "    for z in string :\n",
    "        if y==z :\n",
    "            i+=1\n",
    "    if i %2 != 0 :\n",
    "        list1.append(y)\n",
    "    i=0\n",
    "print(list1)"
   ]
  },
  {
   "cell_type": "code",
   "execution_count": 62,
   "metadata": {},
   "outputs": [
    {
     "name": "stdout",
     "output_type": "stream",
     "text": [
      "54321\n",
      "+4321\n",
      "**321\n",
      "+++21\n",
      "****1\n"
     ]
    }
   ],
   "source": [
    "i = int(input())\n",
    "for x in range (1,i+1,1):\n",
    "    if x==1:\n",
    "        for y in range(i,0,-1):\n",
    "            if y==1:\n",
    "                print(y)\n",
    "            else:\n",
    "                print(y,end='')\n",
    "    else :\n",
    "        for z in range(2,i+1):\n",
    "            if z%2==0:\n",
    "                i-=1\n",
    "                print('+'*j,end='')\n",
    "                for a in range(i,0,-1):\n",
    "                    if a==1:\n",
    "                        print(a)\n",
    "                    else:\n",
    "                        print(a,end='')\n",
    "                j+=1\n",
    "            else :\n",
    "                i-=1\n",
    "                print('*'*j,end='')\n",
    "                for b in range(i,0,-1):\n",
    "                    if b==1:\n",
    "                        print(b)\n",
    "                    else:\n",
    "                        print(b,end='')\n",
    "                j+=1"
   ]
  },
  {
   "cell_type": "code",
   "execution_count": 2,
   "metadata": {},
   "outputs": [
    {
     "name": "stdout",
     "output_type": "stream",
     "text": [
      "55\n",
      "[1, 2, 3, 4, 5, 6, 7, 8, 9, 10] \n",
      "Average : 5.5\n"
     ]
    }
   ],
   "source": [
    "string=input('enter the string :')+' '\n",
    "list1=['0','1','2','3','4','5','6','7','8','9']\n",
    "st=''\n",
    "lst=[]\n",
    "for x in string :\n",
    "    if x in list1 :\n",
    "        st+=x\n",
    "    elif st!='':\n",
    "        z=int(st)\n",
    "        lst.append(z)\n",
    "        st=''\n",
    "sum1=sum(lst)\n",
    "print(lst,'\\nAverage :',sum1/len(lst))"
   ]
  },
  {
   "cell_type": "code",
   "execution_count": null,
   "metadata": {},
   "outputs": [],
   "source": [
    "st=input('enter the ').lower()\n",
    "\n",
    "talika1=[]\n",
    "talika2=[]\n",
    "\n",
    "for i in range(len(st)):\n",
    "  count=1\n",
    "  if (st[i] not in talika1):\n",
    "    for j in range(i+1,len(st)):\n",
    "      if st[i]==st[j]:\n",
    "        count+=1\n",
    "    talika1.append(st[i])\n",
    "    talika2.append(count)\n",
    "\n",
    "talika3=[]\n",
    "for i in range(len(talika2)):\n",
    "  if talika2[i]%2!=0:\n",
    "    talika3.append(talika1[i])\n",
    "\n",
    "print(talika3)"
   ]
  },
  {
   "cell_type": "code",
   "execution_count": 2,
   "metadata": {},
   "outputs": [
    {
     "name": "stdout",
     "output_type": "stream",
     "text": [
      "['d', 'f', 'e']\n"
     ]
    }
   ],
   "source": [
    "str1=input().lower()\n",
    "strList=[]\n",
    "oddList=[]\n",
    "counter=0\n",
    "for i in str1:\n",
    "    strList.append(i)    \n",
    "for i in strList:\n",
    "    if i not in oddList:\n",
    "        for j in strList:\n",
    "            if i==j:\n",
    "                counter+=1\n",
    "        if (counter%2!=0 and counter!=0):\n",
    "            oddList.append(i)\n",
    "        counter=0        \n",
    "print(oddList)"
   ]
  },
  {
   "cell_type": "code",
   "execution_count": 13,
   "metadata": {},
   "outputs": [
    {
     "name": "stdout",
     "output_type": "stream",
     "text": [
      "1.5\n"
     ]
    }
   ],
   "source": [
    "x=int(input('Enter the limit between 3 to 100 :'))\n",
    "if 3<=x<=100:\n",
    "    a=0\n",
    "    y=input('Enter the numbers separated by space :').split(' ')\n",
    "    z=1/int(y[0])\n",
    "    for i in range(1,x+1):\n",
    "        if z==(i/int(y[i-1])):\n",
    "            z+=1\n",
    "else:\n",
    "    print('Wrong input')\n",
    "print(z)"
   ]
  }
 ],
 "metadata": {
  "interpreter": {
   "hash": "07efdcd4b820c98a756949507a4d29d7862823915ec7477944641bea022f4f62"
  },
  "kernelspec": {
   "display_name": "Python 3.8.8 64-bit ('base': conda)",
   "language": "python",
   "name": "python3"
  },
  "language_info": {
   "codemirror_mode": {
    "name": "ipython",
    "version": 3
   },
   "file_extension": ".py",
   "mimetype": "text/x-python",
   "name": "python",
   "nbconvert_exporter": "python",
   "pygments_lexer": "ipython3",
   "version": "3.10.0"
  },
  "orig_nbformat": 4
 },
 "nbformat": 4,
 "nbformat_minor": 2
}
